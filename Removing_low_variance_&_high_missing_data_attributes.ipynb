{
  "nbformat": 4,
  "nbformat_minor": 0,
  "metadata": {
    "colab": {
      "provenance": [],
      "authorship_tag": "ABX9TyN9b6XxVI1m8ilmIFnlZ3to",
      "include_colab_link": true
    },
    "kernelspec": {
      "name": "python3",
      "display_name": "Python 3"
    },
    "language_info": {
      "name": "python"
    }
  },
  "cells": [
    {
      "cell_type": "markdown",
      "metadata": {
        "id": "view-in-github",
        "colab_type": "text"
      },
      "source": [
        "<a href=\"https://colab.research.google.com/github/laura-cramm/CIND-820-Big-Data-Analytics-Project/blob/main/Removing_low_variance_%26_high_missing_data_attributes.ipynb\" target=\"_parent\"><img src=\"https://colab.research.google.com/assets/colab-badge.svg\" alt=\"Open In Colab\"/></a>"
      ]
    },
    {
      "cell_type": "code",
      "execution_count": null,
      "metadata": {
        "id": "X_xt97SpkYrB"
      },
      "outputs": [],
      "source": [
        "import numpy as np\n",
        "import pandas as pd"
      ]
    },
    {
      "cell_type": "code",
      "source": [
        "q1features_trainvalid = pd.read_pickle(\"q1features_trainvalid.pickle\")"
      ],
      "metadata": {
        "id": "8pBM5XSNks_Z"
      },
      "execution_count": null,
      "outputs": []
    },
    {
      "cell_type": "code",
      "source": [
        "#Removing zero variance attributes\n",
        "q1features_trainvalid = q1features_trainvalid.loc[:, q1features_trainvalid.nunique(axis=0) != 1]"
      ],
      "metadata": {
        "id": "OZsPjiI0kvo_"
      },
      "execution_count": null,
      "outputs": []
    },
    {
      "cell_type": "code",
      "source": [
        "#Removing attributes with more than 10% missing data\n",
        "for col in q1features_trainvalid.columns.tolist():\n",
        "  if q1features_trainvalid[col].isna().sum()/len(q1features_trainvalid[col]) > 0.10:\n",
        "    q1features_trainvalid = q1features_trainvalid.drop([col], axis=1)"
      ],
      "metadata": {
        "id": "Bz_C70g6kxVl"
      },
      "execution_count": null,
      "outputs": []
    },
    {
      "cell_type": "code",
      "source": [
        "q1features_trainvalid.to_pickle('q1features_trainvalid.pickle')"
      ],
      "metadata": {
        "id": "QuLAMuDikzdU"
      },
      "execution_count": null,
      "outputs": []
    }
  ]
}