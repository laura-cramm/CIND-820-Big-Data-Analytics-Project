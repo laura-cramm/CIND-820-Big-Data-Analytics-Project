{
  "nbformat": 4,
  "nbformat_minor": 0,
  "metadata": {
    "colab": {
      "provenance": [],
      "authorship_tag": "ABX9TyMPwyTHJlC+eqbZ8hyRdwSv",
      "include_colab_link": true
    },
    "kernelspec": {
      "name": "python3",
      "display_name": "Python 3"
    },
    "language_info": {
      "name": "python"
    },
    "widgets": {
      "application/vnd.jupyter.widget-state+json": {
        "31643aa711ca4d80a1420239c153da3a": {
          "model_module": "@jupyter-widgets/controls",
          "model_name": "HBoxModel",
          "model_module_version": "1.5.0",
          "state": {
            "_dom_classes": [],
            "_model_module": "@jupyter-widgets/controls",
            "_model_module_version": "1.5.0",
            "_model_name": "HBoxModel",
            "_view_count": null,
            "_view_module": "@jupyter-widgets/controls",
            "_view_module_version": "1.5.0",
            "_view_name": "HBoxView",
            "box_style": "",
            "children": [
              "IPY_MODEL_5ac4b63ac5b74343ac6408f57583c7ac",
              "IPY_MODEL_779047af0af846749b46034859c64240",
              "IPY_MODEL_41341da47ec4461fb2db25e444f9a5d5"
            ],
            "layout": "IPY_MODEL_3fadb3d9349e4b8894f586e714bcef26"
          }
        },
        "5ac4b63ac5b74343ac6408f57583c7ac": {
          "model_module": "@jupyter-widgets/controls",
          "model_name": "HTMLModel",
          "model_module_version": "1.5.0",
          "state": {
            "_dom_classes": [],
            "_model_module": "@jupyter-widgets/controls",
            "_model_module_version": "1.5.0",
            "_model_name": "HTMLModel",
            "_view_count": null,
            "_view_module": "@jupyter-widgets/controls",
            "_view_module_version": "1.5.0",
            "_view_name": "HTMLView",
            "description": "",
            "description_tooltip": null,
            "layout": "IPY_MODEL_1d731b93e0e24de38156c64b50fa5879",
            "placeholder": "​",
            "style": "IPY_MODEL_78d4ab6ff0d348769a213a3fad207ae4",
            "value": "Summarize dataset: 100%"
          }
        },
        "779047af0af846749b46034859c64240": {
          "model_module": "@jupyter-widgets/controls",
          "model_name": "FloatProgressModel",
          "model_module_version": "1.5.0",
          "state": {
            "_dom_classes": [],
            "_model_module": "@jupyter-widgets/controls",
            "_model_module_version": "1.5.0",
            "_model_name": "FloatProgressModel",
            "_view_count": null,
            "_view_module": "@jupyter-widgets/controls",
            "_view_module_version": "1.5.0",
            "_view_name": "ProgressView",
            "bar_style": "success",
            "description": "",
            "description_tooltip": null,
            "layout": "IPY_MODEL_fdc66e79ff7342ac80c93a83431f7190",
            "max": 5,
            "min": 0,
            "orientation": "horizontal",
            "style": "IPY_MODEL_4f83550823134f6c8f25cf90a18b12d5",
            "value": 5
          }
        },
        "41341da47ec4461fb2db25e444f9a5d5": {
          "model_module": "@jupyter-widgets/controls",
          "model_name": "HTMLModel",
          "model_module_version": "1.5.0",
          "state": {
            "_dom_classes": [],
            "_model_module": "@jupyter-widgets/controls",
            "_model_module_version": "1.5.0",
            "_model_name": "HTMLModel",
            "_view_count": null,
            "_view_module": "@jupyter-widgets/controls",
            "_view_module_version": "1.5.0",
            "_view_name": "HTMLView",
            "description": "",
            "description_tooltip": null,
            "layout": "IPY_MODEL_0e0f1370fef64281ab30a73a967242fb",
            "placeholder": "​",
            "style": "IPY_MODEL_ec57f02c8a7b4491bc25620022092581",
            "value": " 627/627 [00:13&lt;00:00, 125.56it/s, Completed]"
          }
        },
        "3fadb3d9349e4b8894f586e714bcef26": {
          "model_module": "@jupyter-widgets/base",
          "model_name": "LayoutModel",
          "model_module_version": "1.2.0",
          "state": {
            "_model_module": "@jupyter-widgets/base",
            "_model_module_version": "1.2.0",
            "_model_name": "LayoutModel",
            "_view_count": null,
            "_view_module": "@jupyter-widgets/base",
            "_view_module_version": "1.2.0",
            "_view_name": "LayoutView",
            "align_content": null,
            "align_items": null,
            "align_self": null,
            "border": null,
            "bottom": null,
            "display": null,
            "flex": null,
            "flex_flow": null,
            "grid_area": null,
            "grid_auto_columns": null,
            "grid_auto_flow": null,
            "grid_auto_rows": null,
            "grid_column": null,
            "grid_gap": null,
            "grid_row": null,
            "grid_template_areas": null,
            "grid_template_columns": null,
            "grid_template_rows": null,
            "height": null,
            "justify_content": null,
            "justify_items": null,
            "left": null,
            "margin": null,
            "max_height": null,
            "max_width": null,
            "min_height": null,
            "min_width": null,
            "object_fit": null,
            "object_position": null,
            "order": null,
            "overflow": null,
            "overflow_x": null,
            "overflow_y": null,
            "padding": null,
            "right": null,
            "top": null,
            "visibility": null,
            "width": null
          }
        },
        "1d731b93e0e24de38156c64b50fa5879": {
          "model_module": "@jupyter-widgets/base",
          "model_name": "LayoutModel",
          "model_module_version": "1.2.0",
          "state": {
            "_model_module": "@jupyter-widgets/base",
            "_model_module_version": "1.2.0",
            "_model_name": "LayoutModel",
            "_view_count": null,
            "_view_module": "@jupyter-widgets/base",
            "_view_module_version": "1.2.0",
            "_view_name": "LayoutView",
            "align_content": null,
            "align_items": null,
            "align_self": null,
            "border": null,
            "bottom": null,
            "display": null,
            "flex": null,
            "flex_flow": null,
            "grid_area": null,
            "grid_auto_columns": null,
            "grid_auto_flow": null,
            "grid_auto_rows": null,
            "grid_column": null,
            "grid_gap": null,
            "grid_row": null,
            "grid_template_areas": null,
            "grid_template_columns": null,
            "grid_template_rows": null,
            "height": null,
            "justify_content": null,
            "justify_items": null,
            "left": null,
            "margin": null,
            "max_height": null,
            "max_width": null,
            "min_height": null,
            "min_width": null,
            "object_fit": null,
            "object_position": null,
            "order": null,
            "overflow": null,
            "overflow_x": null,
            "overflow_y": null,
            "padding": null,
            "right": null,
            "top": null,
            "visibility": null,
            "width": null
          }
        },
        "78d4ab6ff0d348769a213a3fad207ae4": {
          "model_module": "@jupyter-widgets/controls",
          "model_name": "DescriptionStyleModel",
          "model_module_version": "1.5.0",
          "state": {
            "_model_module": "@jupyter-widgets/controls",
            "_model_module_version": "1.5.0",
            "_model_name": "DescriptionStyleModel",
            "_view_count": null,
            "_view_module": "@jupyter-widgets/base",
            "_view_module_version": "1.2.0",
            "_view_name": "StyleView",
            "description_width": ""
          }
        },
        "fdc66e79ff7342ac80c93a83431f7190": {
          "model_module": "@jupyter-widgets/base",
          "model_name": "LayoutModel",
          "model_module_version": "1.2.0",
          "state": {
            "_model_module": "@jupyter-widgets/base",
            "_model_module_version": "1.2.0",
            "_model_name": "LayoutModel",
            "_view_count": null,
            "_view_module": "@jupyter-widgets/base",
            "_view_module_version": "1.2.0",
            "_view_name": "LayoutView",
            "align_content": null,
            "align_items": null,
            "align_self": null,
            "border": null,
            "bottom": null,
            "display": null,
            "flex": null,
            "flex_flow": null,
            "grid_area": null,
            "grid_auto_columns": null,
            "grid_auto_flow": null,
            "grid_auto_rows": null,
            "grid_column": null,
            "grid_gap": null,
            "grid_row": null,
            "grid_template_areas": null,
            "grid_template_columns": null,
            "grid_template_rows": null,
            "height": null,
            "justify_content": null,
            "justify_items": null,
            "left": null,
            "margin": null,
            "max_height": null,
            "max_width": null,
            "min_height": null,
            "min_width": null,
            "object_fit": null,
            "object_position": null,
            "order": null,
            "overflow": null,
            "overflow_x": null,
            "overflow_y": null,
            "padding": null,
            "right": null,
            "top": null,
            "visibility": null,
            "width": null
          }
        },
        "4f83550823134f6c8f25cf90a18b12d5": {
          "model_module": "@jupyter-widgets/controls",
          "model_name": "ProgressStyleModel",
          "model_module_version": "1.5.0",
          "state": {
            "_model_module": "@jupyter-widgets/controls",
            "_model_module_version": "1.5.0",
            "_model_name": "ProgressStyleModel",
            "_view_count": null,
            "_view_module": "@jupyter-widgets/base",
            "_view_module_version": "1.2.0",
            "_view_name": "StyleView",
            "bar_color": null,
            "description_width": ""
          }
        },
        "0e0f1370fef64281ab30a73a967242fb": {
          "model_module": "@jupyter-widgets/base",
          "model_name": "LayoutModel",
          "model_module_version": "1.2.0",
          "state": {
            "_model_module": "@jupyter-widgets/base",
            "_model_module_version": "1.2.0",
            "_model_name": "LayoutModel",
            "_view_count": null,
            "_view_module": "@jupyter-widgets/base",
            "_view_module_version": "1.2.0",
            "_view_name": "LayoutView",
            "align_content": null,
            "align_items": null,
            "align_self": null,
            "border": null,
            "bottom": null,
            "display": null,
            "flex": null,
            "flex_flow": null,
            "grid_area": null,
            "grid_auto_columns": null,
            "grid_auto_flow": null,
            "grid_auto_rows": null,
            "grid_column": null,
            "grid_gap": null,
            "grid_row": null,
            "grid_template_areas": null,
            "grid_template_columns": null,
            "grid_template_rows": null,
            "height": null,
            "justify_content": null,
            "justify_items": null,
            "left": null,
            "margin": null,
            "max_height": null,
            "max_width": null,
            "min_height": null,
            "min_width": null,
            "object_fit": null,
            "object_position": null,
            "order": null,
            "overflow": null,
            "overflow_x": null,
            "overflow_y": null,
            "padding": null,
            "right": null,
            "top": null,
            "visibility": null,
            "width": null
          }
        },
        "ec57f02c8a7b4491bc25620022092581": {
          "model_module": "@jupyter-widgets/controls",
          "model_name": "DescriptionStyleModel",
          "model_module_version": "1.5.0",
          "state": {
            "_model_module": "@jupyter-widgets/controls",
            "_model_module_version": "1.5.0",
            "_model_name": "DescriptionStyleModel",
            "_view_count": null,
            "_view_module": "@jupyter-widgets/base",
            "_view_module_version": "1.2.0",
            "_view_name": "StyleView",
            "description_width": ""
          }
        },
        "89ca7ade31fd430fa9958c1392548286": {
          "model_module": "@jupyter-widgets/controls",
          "model_name": "HBoxModel",
          "model_module_version": "1.5.0",
          "state": {
            "_dom_classes": [],
            "_model_module": "@jupyter-widgets/controls",
            "_model_module_version": "1.5.0",
            "_model_name": "HBoxModel",
            "_view_count": null,
            "_view_module": "@jupyter-widgets/controls",
            "_view_module_version": "1.5.0",
            "_view_name": "HBoxView",
            "box_style": "",
            "children": [
              "IPY_MODEL_72e094a38d5b46ea997a5acdba988642",
              "IPY_MODEL_d6660b5dfd6f473a96b209e1f5287b51",
              "IPY_MODEL_21715424d5fc46388a97880a9abc8c1d"
            ],
            "layout": "IPY_MODEL_bb66974c40944aba9aa0a1f359e16433"
          }
        },
        "72e094a38d5b46ea997a5acdba988642": {
          "model_module": "@jupyter-widgets/controls",
          "model_name": "HTMLModel",
          "model_module_version": "1.5.0",
          "state": {
            "_dom_classes": [],
            "_model_module": "@jupyter-widgets/controls",
            "_model_module_version": "1.5.0",
            "_model_name": "HTMLModel",
            "_view_count": null,
            "_view_module": "@jupyter-widgets/controls",
            "_view_module_version": "1.5.0",
            "_view_name": "HTMLView",
            "description": "",
            "description_tooltip": null,
            "layout": "IPY_MODEL_29b451eed9d94bcc8c57259910faf772",
            "placeholder": "​",
            "style": "IPY_MODEL_d414d346a17d431c96db451cee48e533",
            "value": "Generate report structure: 100%"
          }
        },
        "d6660b5dfd6f473a96b209e1f5287b51": {
          "model_module": "@jupyter-widgets/controls",
          "model_name": "FloatProgressModel",
          "model_module_version": "1.5.0",
          "state": {
            "_dom_classes": [],
            "_model_module": "@jupyter-widgets/controls",
            "_model_module_version": "1.5.0",
            "_model_name": "FloatProgressModel",
            "_view_count": null,
            "_view_module": "@jupyter-widgets/controls",
            "_view_module_version": "1.5.0",
            "_view_name": "ProgressView",
            "bar_style": "success",
            "description": "",
            "description_tooltip": null,
            "layout": "IPY_MODEL_f734df7aa3a346fb98a3e25b09094ec4",
            "max": 1,
            "min": 0,
            "orientation": "horizontal",
            "style": "IPY_MODEL_3b3b00e708684bc29f38f440baf70957",
            "value": 1
          }
        },
        "21715424d5fc46388a97880a9abc8c1d": {
          "model_module": "@jupyter-widgets/controls",
          "model_name": "HTMLModel",
          "model_module_version": "1.5.0",
          "state": {
            "_dom_classes": [],
            "_model_module": "@jupyter-widgets/controls",
            "_model_module_version": "1.5.0",
            "_model_name": "HTMLModel",
            "_view_count": null,
            "_view_module": "@jupyter-widgets/controls",
            "_view_module_version": "1.5.0",
            "_view_name": "HTMLView",
            "description": "",
            "description_tooltip": null,
            "layout": "IPY_MODEL_f0a3536575d94ea3ab998737aaeb9de2",
            "placeholder": "​",
            "style": "IPY_MODEL_d392981b84cd43248cf024b2f29e0fbc",
            "value": " 1/1 [03:15&lt;00:00, 195.97s/it]"
          }
        },
        "bb66974c40944aba9aa0a1f359e16433": {
          "model_module": "@jupyter-widgets/base",
          "model_name": "LayoutModel",
          "model_module_version": "1.2.0",
          "state": {
            "_model_module": "@jupyter-widgets/base",
            "_model_module_version": "1.2.0",
            "_model_name": "LayoutModel",
            "_view_count": null,
            "_view_module": "@jupyter-widgets/base",
            "_view_module_version": "1.2.0",
            "_view_name": "LayoutView",
            "align_content": null,
            "align_items": null,
            "align_self": null,
            "border": null,
            "bottom": null,
            "display": null,
            "flex": null,
            "flex_flow": null,
            "grid_area": null,
            "grid_auto_columns": null,
            "grid_auto_flow": null,
            "grid_auto_rows": null,
            "grid_column": null,
            "grid_gap": null,
            "grid_row": null,
            "grid_template_areas": null,
            "grid_template_columns": null,
            "grid_template_rows": null,
            "height": null,
            "justify_content": null,
            "justify_items": null,
            "left": null,
            "margin": null,
            "max_height": null,
            "max_width": null,
            "min_height": null,
            "min_width": null,
            "object_fit": null,
            "object_position": null,
            "order": null,
            "overflow": null,
            "overflow_x": null,
            "overflow_y": null,
            "padding": null,
            "right": null,
            "top": null,
            "visibility": null,
            "width": null
          }
        },
        "29b451eed9d94bcc8c57259910faf772": {
          "model_module": "@jupyter-widgets/base",
          "model_name": "LayoutModel",
          "model_module_version": "1.2.0",
          "state": {
            "_model_module": "@jupyter-widgets/base",
            "_model_module_version": "1.2.0",
            "_model_name": "LayoutModel",
            "_view_count": null,
            "_view_module": "@jupyter-widgets/base",
            "_view_module_version": "1.2.0",
            "_view_name": "LayoutView",
            "align_content": null,
            "align_items": null,
            "align_self": null,
            "border": null,
            "bottom": null,
            "display": null,
            "flex": null,
            "flex_flow": null,
            "grid_area": null,
            "grid_auto_columns": null,
            "grid_auto_flow": null,
            "grid_auto_rows": null,
            "grid_column": null,
            "grid_gap": null,
            "grid_row": null,
            "grid_template_areas": null,
            "grid_template_columns": null,
            "grid_template_rows": null,
            "height": null,
            "justify_content": null,
            "justify_items": null,
            "left": null,
            "margin": null,
            "max_height": null,
            "max_width": null,
            "min_height": null,
            "min_width": null,
            "object_fit": null,
            "object_position": null,
            "order": null,
            "overflow": null,
            "overflow_x": null,
            "overflow_y": null,
            "padding": null,
            "right": null,
            "top": null,
            "visibility": null,
            "width": null
          }
        },
        "d414d346a17d431c96db451cee48e533": {
          "model_module": "@jupyter-widgets/controls",
          "model_name": "DescriptionStyleModel",
          "model_module_version": "1.5.0",
          "state": {
            "_model_module": "@jupyter-widgets/controls",
            "_model_module_version": "1.5.0",
            "_model_name": "DescriptionStyleModel",
            "_view_count": null,
            "_view_module": "@jupyter-widgets/base",
            "_view_module_version": "1.2.0",
            "_view_name": "StyleView",
            "description_width": ""
          }
        },
        "f734df7aa3a346fb98a3e25b09094ec4": {
          "model_module": "@jupyter-widgets/base",
          "model_name": "LayoutModel",
          "model_module_version": "1.2.0",
          "state": {
            "_model_module": "@jupyter-widgets/base",
            "_model_module_version": "1.2.0",
            "_model_name": "LayoutModel",
            "_view_count": null,
            "_view_module": "@jupyter-widgets/base",
            "_view_module_version": "1.2.0",
            "_view_name": "LayoutView",
            "align_content": null,
            "align_items": null,
            "align_self": null,
            "border": null,
            "bottom": null,
            "display": null,
            "flex": null,
            "flex_flow": null,
            "grid_area": null,
            "grid_auto_columns": null,
            "grid_auto_flow": null,
            "grid_auto_rows": null,
            "grid_column": null,
            "grid_gap": null,
            "grid_row": null,
            "grid_template_areas": null,
            "grid_template_columns": null,
            "grid_template_rows": null,
            "height": null,
            "justify_content": null,
            "justify_items": null,
            "left": null,
            "margin": null,
            "max_height": null,
            "max_width": null,
            "min_height": null,
            "min_width": null,
            "object_fit": null,
            "object_position": null,
            "order": null,
            "overflow": null,
            "overflow_x": null,
            "overflow_y": null,
            "padding": null,
            "right": null,
            "top": null,
            "visibility": null,
            "width": null
          }
        },
        "3b3b00e708684bc29f38f440baf70957": {
          "model_module": "@jupyter-widgets/controls",
          "model_name": "ProgressStyleModel",
          "model_module_version": "1.5.0",
          "state": {
            "_model_module": "@jupyter-widgets/controls",
            "_model_module_version": "1.5.0",
            "_model_name": "ProgressStyleModel",
            "_view_count": null,
            "_view_module": "@jupyter-widgets/base",
            "_view_module_version": "1.2.0",
            "_view_name": "StyleView",
            "bar_color": null,
            "description_width": ""
          }
        },
        "f0a3536575d94ea3ab998737aaeb9de2": {
          "model_module": "@jupyter-widgets/base",
          "model_name": "LayoutModel",
          "model_module_version": "1.2.0",
          "state": {
            "_model_module": "@jupyter-widgets/base",
            "_model_module_version": "1.2.0",
            "_model_name": "LayoutModel",
            "_view_count": null,
            "_view_module": "@jupyter-widgets/base",
            "_view_module_version": "1.2.0",
            "_view_name": "LayoutView",
            "align_content": null,
            "align_items": null,
            "align_self": null,
            "border": null,
            "bottom": null,
            "display": null,
            "flex": null,
            "flex_flow": null,
            "grid_area": null,
            "grid_auto_columns": null,
            "grid_auto_flow": null,
            "grid_auto_rows": null,
            "grid_column": null,
            "grid_gap": null,
            "grid_row": null,
            "grid_template_areas": null,
            "grid_template_columns": null,
            "grid_template_rows": null,
            "height": null,
            "justify_content": null,
            "justify_items": null,
            "left": null,
            "margin": null,
            "max_height": null,
            "max_width": null,
            "min_height": null,
            "min_width": null,
            "object_fit": null,
            "object_position": null,
            "order": null,
            "overflow": null,
            "overflow_x": null,
            "overflow_y": null,
            "padding": null,
            "right": null,
            "top": null,
            "visibility": null,
            "width": null
          }
        },
        "d392981b84cd43248cf024b2f29e0fbc": {
          "model_module": "@jupyter-widgets/controls",
          "model_name": "DescriptionStyleModel",
          "model_module_version": "1.5.0",
          "state": {
            "_model_module": "@jupyter-widgets/controls",
            "_model_module_version": "1.5.0",
            "_model_name": "DescriptionStyleModel",
            "_view_count": null,
            "_view_module": "@jupyter-widgets/base",
            "_view_module_version": "1.2.0",
            "_view_name": "StyleView",
            "description_width": ""
          }
        },
        "a2d01c8925d549579f011fea42b8dfc8": {
          "model_module": "@jupyter-widgets/controls",
          "model_name": "HBoxModel",
          "model_module_version": "1.5.0",
          "state": {
            "_dom_classes": [],
            "_model_module": "@jupyter-widgets/controls",
            "_model_module_version": "1.5.0",
            "_model_name": "HBoxModel",
            "_view_count": null,
            "_view_module": "@jupyter-widgets/controls",
            "_view_module_version": "1.5.0",
            "_view_name": "HBoxView",
            "box_style": "",
            "children": [
              "IPY_MODEL_0a0f7d6621c94ef9841c1cc127bc7ef1",
              "IPY_MODEL_3c054401b92749f2b7ebfd6a8a8c6ac0",
              "IPY_MODEL_8ade23349ec147c98dc44c343b2930fa"
            ],
            "layout": "IPY_MODEL_ccb297c85a774f00974fd4599bfce848"
          }
        },
        "0a0f7d6621c94ef9841c1cc127bc7ef1": {
          "model_module": "@jupyter-widgets/controls",
          "model_name": "HTMLModel",
          "model_module_version": "1.5.0",
          "state": {
            "_dom_classes": [],
            "_model_module": "@jupyter-widgets/controls",
            "_model_module_version": "1.5.0",
            "_model_name": "HTMLModel",
            "_view_count": null,
            "_view_module": "@jupyter-widgets/controls",
            "_view_module_version": "1.5.0",
            "_view_name": "HTMLView",
            "description": "",
            "description_tooltip": null,
            "layout": "IPY_MODEL_593af1a295b5473b918a503d47eec429",
            "placeholder": "​",
            "style": "IPY_MODEL_f385c66e8f7c4da9bbb858ba51a2193f",
            "value": "Render HTML: 100%"
          }
        },
        "3c054401b92749f2b7ebfd6a8a8c6ac0": {
          "model_module": "@jupyter-widgets/controls",
          "model_name": "FloatProgressModel",
          "model_module_version": "1.5.0",
          "state": {
            "_dom_classes": [],
            "_model_module": "@jupyter-widgets/controls",
            "_model_module_version": "1.5.0",
            "_model_name": "FloatProgressModel",
            "_view_count": null,
            "_view_module": "@jupyter-widgets/controls",
            "_view_module_version": "1.5.0",
            "_view_name": "ProgressView",
            "bar_style": "success",
            "description": "",
            "description_tooltip": null,
            "layout": "IPY_MODEL_42f46c6c5744424cae6d13377ba81675",
            "max": 1,
            "min": 0,
            "orientation": "horizontal",
            "style": "IPY_MODEL_ea5e4978b46d4f139e482b8a9df30245",
            "value": 1
          }
        },
        "8ade23349ec147c98dc44c343b2930fa": {
          "model_module": "@jupyter-widgets/controls",
          "model_name": "HTMLModel",
          "model_module_version": "1.5.0",
          "state": {
            "_dom_classes": [],
            "_model_module": "@jupyter-widgets/controls",
            "_model_module_version": "1.5.0",
            "_model_name": "HTMLModel",
            "_view_count": null,
            "_view_module": "@jupyter-widgets/controls",
            "_view_module_version": "1.5.0",
            "_view_name": "HTMLView",
            "description": "",
            "description_tooltip": null,
            "layout": "IPY_MODEL_01ebd9c063ec4755b19760f6e43b0e00",
            "placeholder": "​",
            "style": "IPY_MODEL_fcb52bd4d9c442e682fa0995cd1e79a2",
            "value": " 1/1 [00:06&lt;00:00,  6.26s/it]"
          }
        },
        "ccb297c85a774f00974fd4599bfce848": {
          "model_module": "@jupyter-widgets/base",
          "model_name": "LayoutModel",
          "model_module_version": "1.2.0",
          "state": {
            "_model_module": "@jupyter-widgets/base",
            "_model_module_version": "1.2.0",
            "_model_name": "LayoutModel",
            "_view_count": null,
            "_view_module": "@jupyter-widgets/base",
            "_view_module_version": "1.2.0",
            "_view_name": "LayoutView",
            "align_content": null,
            "align_items": null,
            "align_self": null,
            "border": null,
            "bottom": null,
            "display": null,
            "flex": null,
            "flex_flow": null,
            "grid_area": null,
            "grid_auto_columns": null,
            "grid_auto_flow": null,
            "grid_auto_rows": null,
            "grid_column": null,
            "grid_gap": null,
            "grid_row": null,
            "grid_template_areas": null,
            "grid_template_columns": null,
            "grid_template_rows": null,
            "height": null,
            "justify_content": null,
            "justify_items": null,
            "left": null,
            "margin": null,
            "max_height": null,
            "max_width": null,
            "min_height": null,
            "min_width": null,
            "object_fit": null,
            "object_position": null,
            "order": null,
            "overflow": null,
            "overflow_x": null,
            "overflow_y": null,
            "padding": null,
            "right": null,
            "top": null,
            "visibility": null,
            "width": null
          }
        },
        "593af1a295b5473b918a503d47eec429": {
          "model_module": "@jupyter-widgets/base",
          "model_name": "LayoutModel",
          "model_module_version": "1.2.0",
          "state": {
            "_model_module": "@jupyter-widgets/base",
            "_model_module_version": "1.2.0",
            "_model_name": "LayoutModel",
            "_view_count": null,
            "_view_module": "@jupyter-widgets/base",
            "_view_module_version": "1.2.0",
            "_view_name": "LayoutView",
            "align_content": null,
            "align_items": null,
            "align_self": null,
            "border": null,
            "bottom": null,
            "display": null,
            "flex": null,
            "flex_flow": null,
            "grid_area": null,
            "grid_auto_columns": null,
            "grid_auto_flow": null,
            "grid_auto_rows": null,
            "grid_column": null,
            "grid_gap": null,
            "grid_row": null,
            "grid_template_areas": null,
            "grid_template_columns": null,
            "grid_template_rows": null,
            "height": null,
            "justify_content": null,
            "justify_items": null,
            "left": null,
            "margin": null,
            "max_height": null,
            "max_width": null,
            "min_height": null,
            "min_width": null,
            "object_fit": null,
            "object_position": null,
            "order": null,
            "overflow": null,
            "overflow_x": null,
            "overflow_y": null,
            "padding": null,
            "right": null,
            "top": null,
            "visibility": null,
            "width": null
          }
        },
        "f385c66e8f7c4da9bbb858ba51a2193f": {
          "model_module": "@jupyter-widgets/controls",
          "model_name": "DescriptionStyleModel",
          "model_module_version": "1.5.0",
          "state": {
            "_model_module": "@jupyter-widgets/controls",
            "_model_module_version": "1.5.0",
            "_model_name": "DescriptionStyleModel",
            "_view_count": null,
            "_view_module": "@jupyter-widgets/base",
            "_view_module_version": "1.2.0",
            "_view_name": "StyleView",
            "description_width": ""
          }
        },
        "42f46c6c5744424cae6d13377ba81675": {
          "model_module": "@jupyter-widgets/base",
          "model_name": "LayoutModel",
          "model_module_version": "1.2.0",
          "state": {
            "_model_module": "@jupyter-widgets/base",
            "_model_module_version": "1.2.0",
            "_model_name": "LayoutModel",
            "_view_count": null,
            "_view_module": "@jupyter-widgets/base",
            "_view_module_version": "1.2.0",
            "_view_name": "LayoutView",
            "align_content": null,
            "align_items": null,
            "align_self": null,
            "border": null,
            "bottom": null,
            "display": null,
            "flex": null,
            "flex_flow": null,
            "grid_area": null,
            "grid_auto_columns": null,
            "grid_auto_flow": null,
            "grid_auto_rows": null,
            "grid_column": null,
            "grid_gap": null,
            "grid_row": null,
            "grid_template_areas": null,
            "grid_template_columns": null,
            "grid_template_rows": null,
            "height": null,
            "justify_content": null,
            "justify_items": null,
            "left": null,
            "margin": null,
            "max_height": null,
            "max_width": null,
            "min_height": null,
            "min_width": null,
            "object_fit": null,
            "object_position": null,
            "order": null,
            "overflow": null,
            "overflow_x": null,
            "overflow_y": null,
            "padding": null,
            "right": null,
            "top": null,
            "visibility": null,
            "width": null
          }
        },
        "ea5e4978b46d4f139e482b8a9df30245": {
          "model_module": "@jupyter-widgets/controls",
          "model_name": "ProgressStyleModel",
          "model_module_version": "1.5.0",
          "state": {
            "_model_module": "@jupyter-widgets/controls",
            "_model_module_version": "1.5.0",
            "_model_name": "ProgressStyleModel",
            "_view_count": null,
            "_view_module": "@jupyter-widgets/base",
            "_view_module_version": "1.2.0",
            "_view_name": "StyleView",
            "bar_color": null,
            "description_width": ""
          }
        },
        "01ebd9c063ec4755b19760f6e43b0e00": {
          "model_module": "@jupyter-widgets/base",
          "model_name": "LayoutModel",
          "model_module_version": "1.2.0",
          "state": {
            "_model_module": "@jupyter-widgets/base",
            "_model_module_version": "1.2.0",
            "_model_name": "LayoutModel",
            "_view_count": null,
            "_view_module": "@jupyter-widgets/base",
            "_view_module_version": "1.2.0",
            "_view_name": "LayoutView",
            "align_content": null,
            "align_items": null,
            "align_self": null,
            "border": null,
            "bottom": null,
            "display": null,
            "flex": null,
            "flex_flow": null,
            "grid_area": null,
            "grid_auto_columns": null,
            "grid_auto_flow": null,
            "grid_auto_rows": null,
            "grid_column": null,
            "grid_gap": null,
            "grid_row": null,
            "grid_template_areas": null,
            "grid_template_columns": null,
            "grid_template_rows": null,
            "height": null,
            "justify_content": null,
            "justify_items": null,
            "left": null,
            "margin": null,
            "max_height": null,
            "max_width": null,
            "min_height": null,
            "min_width": null,
            "object_fit": null,
            "object_position": null,
            "order": null,
            "overflow": null,
            "overflow_x": null,
            "overflow_y": null,
            "padding": null,
            "right": null,
            "top": null,
            "visibility": null,
            "width": null
          }
        },
        "fcb52bd4d9c442e682fa0995cd1e79a2": {
          "model_module": "@jupyter-widgets/controls",
          "model_name": "DescriptionStyleModel",
          "model_module_version": "1.5.0",
          "state": {
            "_model_module": "@jupyter-widgets/controls",
            "_model_module_version": "1.5.0",
            "_model_name": "DescriptionStyleModel",
            "_view_count": null,
            "_view_module": "@jupyter-widgets/base",
            "_view_module_version": "1.2.0",
            "_view_name": "StyleView",
            "description_width": ""
          }
        },
        "eb381a5253a64a01800f327b1b3a11f2": {
          "model_module": "@jupyter-widgets/controls",
          "model_name": "HBoxModel",
          "model_module_version": "1.5.0",
          "state": {
            "_dom_classes": [],
            "_model_module": "@jupyter-widgets/controls",
            "_model_module_version": "1.5.0",
            "_model_name": "HBoxModel",
            "_view_count": null,
            "_view_module": "@jupyter-widgets/controls",
            "_view_module_version": "1.5.0",
            "_view_name": "HBoxView",
            "box_style": "",
            "children": [
              "IPY_MODEL_a48960033f0d45d9a91ebb9544c5ff72",
              "IPY_MODEL_5940d78c5903411890cf724a5b9f840e",
              "IPY_MODEL_b5a01b5356394443914df44d8b3f43ce"
            ],
            "layout": "IPY_MODEL_70e7a6866ce54705a99ff3f881a3b135"
          }
        },
        "a48960033f0d45d9a91ebb9544c5ff72": {
          "model_module": "@jupyter-widgets/controls",
          "model_name": "HTMLModel",
          "model_module_version": "1.5.0",
          "state": {
            "_dom_classes": [],
            "_model_module": "@jupyter-widgets/controls",
            "_model_module_version": "1.5.0",
            "_model_name": "HTMLModel",
            "_view_count": null,
            "_view_module": "@jupyter-widgets/controls",
            "_view_module_version": "1.5.0",
            "_view_name": "HTMLView",
            "description": "",
            "description_tooltip": null,
            "layout": "IPY_MODEL_e2d04691c12d4ee9aed645e6766e9acc",
            "placeholder": "​",
            "style": "IPY_MODEL_9608544770204878aa07c8278ccaf261",
            "value": "Export report to file: 100%"
          }
        },
        "5940d78c5903411890cf724a5b9f840e": {
          "model_module": "@jupyter-widgets/controls",
          "model_name": "FloatProgressModel",
          "model_module_version": "1.5.0",
          "state": {
            "_dom_classes": [],
            "_model_module": "@jupyter-widgets/controls",
            "_model_module_version": "1.5.0",
            "_model_name": "FloatProgressModel",
            "_view_count": null,
            "_view_module": "@jupyter-widgets/controls",
            "_view_module_version": "1.5.0",
            "_view_name": "ProgressView",
            "bar_style": "success",
            "description": "",
            "description_tooltip": null,
            "layout": "IPY_MODEL_5d75236148cb4f1c85c0331f79c1507a",
            "max": 1,
            "min": 0,
            "orientation": "horizontal",
            "style": "IPY_MODEL_3d266fdbf4fa474fa30f8a5b2e5109a3",
            "value": 1
          }
        },
        "b5a01b5356394443914df44d8b3f43ce": {
          "model_module": "@jupyter-widgets/controls",
          "model_name": "HTMLModel",
          "model_module_version": "1.5.0",
          "state": {
            "_dom_classes": [],
            "_model_module": "@jupyter-widgets/controls",
            "_model_module_version": "1.5.0",
            "_model_name": "HTMLModel",
            "_view_count": null,
            "_view_module": "@jupyter-widgets/controls",
            "_view_module_version": "1.5.0",
            "_view_name": "HTMLView",
            "description": "",
            "description_tooltip": null,
            "layout": "IPY_MODEL_161e45b028984383b66283f72707fa3c",
            "placeholder": "​",
            "style": "IPY_MODEL_0935799a4295442a844911b7b505bbc8",
            "value": " 1/1 [00:00&lt;00:00, 17.48it/s]"
          }
        },
        "70e7a6866ce54705a99ff3f881a3b135": {
          "model_module": "@jupyter-widgets/base",
          "model_name": "LayoutModel",
          "model_module_version": "1.2.0",
          "state": {
            "_model_module": "@jupyter-widgets/base",
            "_model_module_version": "1.2.0",
            "_model_name": "LayoutModel",
            "_view_count": null,
            "_view_module": "@jupyter-widgets/base",
            "_view_module_version": "1.2.0",
            "_view_name": "LayoutView",
            "align_content": null,
            "align_items": null,
            "align_self": null,
            "border": null,
            "bottom": null,
            "display": null,
            "flex": null,
            "flex_flow": null,
            "grid_area": null,
            "grid_auto_columns": null,
            "grid_auto_flow": null,
            "grid_auto_rows": null,
            "grid_column": null,
            "grid_gap": null,
            "grid_row": null,
            "grid_template_areas": null,
            "grid_template_columns": null,
            "grid_template_rows": null,
            "height": null,
            "justify_content": null,
            "justify_items": null,
            "left": null,
            "margin": null,
            "max_height": null,
            "max_width": null,
            "min_height": null,
            "min_width": null,
            "object_fit": null,
            "object_position": null,
            "order": null,
            "overflow": null,
            "overflow_x": null,
            "overflow_y": null,
            "padding": null,
            "right": null,
            "top": null,
            "visibility": null,
            "width": null
          }
        },
        "e2d04691c12d4ee9aed645e6766e9acc": {
          "model_module": "@jupyter-widgets/base",
          "model_name": "LayoutModel",
          "model_module_version": "1.2.0",
          "state": {
            "_model_module": "@jupyter-widgets/base",
            "_model_module_version": "1.2.0",
            "_model_name": "LayoutModel",
            "_view_count": null,
            "_view_module": "@jupyter-widgets/base",
            "_view_module_version": "1.2.0",
            "_view_name": "LayoutView",
            "align_content": null,
            "align_items": null,
            "align_self": null,
            "border": null,
            "bottom": null,
            "display": null,
            "flex": null,
            "flex_flow": null,
            "grid_area": null,
            "grid_auto_columns": null,
            "grid_auto_flow": null,
            "grid_auto_rows": null,
            "grid_column": null,
            "grid_gap": null,
            "grid_row": null,
            "grid_template_areas": null,
            "grid_template_columns": null,
            "grid_template_rows": null,
            "height": null,
            "justify_content": null,
            "justify_items": null,
            "left": null,
            "margin": null,
            "max_height": null,
            "max_width": null,
            "min_height": null,
            "min_width": null,
            "object_fit": null,
            "object_position": null,
            "order": null,
            "overflow": null,
            "overflow_x": null,
            "overflow_y": null,
            "padding": null,
            "right": null,
            "top": null,
            "visibility": null,
            "width": null
          }
        },
        "9608544770204878aa07c8278ccaf261": {
          "model_module": "@jupyter-widgets/controls",
          "model_name": "DescriptionStyleModel",
          "model_module_version": "1.5.0",
          "state": {
            "_model_module": "@jupyter-widgets/controls",
            "_model_module_version": "1.5.0",
            "_model_name": "DescriptionStyleModel",
            "_view_count": null,
            "_view_module": "@jupyter-widgets/base",
            "_view_module_version": "1.2.0",
            "_view_name": "StyleView",
            "description_width": ""
          }
        },
        "5d75236148cb4f1c85c0331f79c1507a": {
          "model_module": "@jupyter-widgets/base",
          "model_name": "LayoutModel",
          "model_module_version": "1.2.0",
          "state": {
            "_model_module": "@jupyter-widgets/base",
            "_model_module_version": "1.2.0",
            "_model_name": "LayoutModel",
            "_view_count": null,
            "_view_module": "@jupyter-widgets/base",
            "_view_module_version": "1.2.0",
            "_view_name": "LayoutView",
            "align_content": null,
            "align_items": null,
            "align_self": null,
            "border": null,
            "bottom": null,
            "display": null,
            "flex": null,
            "flex_flow": null,
            "grid_area": null,
            "grid_auto_columns": null,
            "grid_auto_flow": null,
            "grid_auto_rows": null,
            "grid_column": null,
            "grid_gap": null,
            "grid_row": null,
            "grid_template_areas": null,
            "grid_template_columns": null,
            "grid_template_rows": null,
            "height": null,
            "justify_content": null,
            "justify_items": null,
            "left": null,
            "margin": null,
            "max_height": null,
            "max_width": null,
            "min_height": null,
            "min_width": null,
            "object_fit": null,
            "object_position": null,
            "order": null,
            "overflow": null,
            "overflow_x": null,
            "overflow_y": null,
            "padding": null,
            "right": null,
            "top": null,
            "visibility": null,
            "width": null
          }
        },
        "3d266fdbf4fa474fa30f8a5b2e5109a3": {
          "model_module": "@jupyter-widgets/controls",
          "model_name": "ProgressStyleModel",
          "model_module_version": "1.5.0",
          "state": {
            "_model_module": "@jupyter-widgets/controls",
            "_model_module_version": "1.5.0",
            "_model_name": "ProgressStyleModel",
            "_view_count": null,
            "_view_module": "@jupyter-widgets/base",
            "_view_module_version": "1.2.0",
            "_view_name": "StyleView",
            "bar_color": null,
            "description_width": ""
          }
        },
        "161e45b028984383b66283f72707fa3c": {
          "model_module": "@jupyter-widgets/base",
          "model_name": "LayoutModel",
          "model_module_version": "1.2.0",
          "state": {
            "_model_module": "@jupyter-widgets/base",
            "_model_module_version": "1.2.0",
            "_model_name": "LayoutModel",
            "_view_count": null,
            "_view_module": "@jupyter-widgets/base",
            "_view_module_version": "1.2.0",
            "_view_name": "LayoutView",
            "align_content": null,
            "align_items": null,
            "align_self": null,
            "border": null,
            "bottom": null,
            "display": null,
            "flex": null,
            "flex_flow": null,
            "grid_area": null,
            "grid_auto_columns": null,
            "grid_auto_flow": null,
            "grid_auto_rows": null,
            "grid_column": null,
            "grid_gap": null,
            "grid_row": null,
            "grid_template_areas": null,
            "grid_template_columns": null,
            "grid_template_rows": null,
            "height": null,
            "justify_content": null,
            "justify_items": null,
            "left": null,
            "margin": null,
            "max_height": null,
            "max_width": null,
            "min_height": null,
            "min_width": null,
            "object_fit": null,
            "object_position": null,
            "order": null,
            "overflow": null,
            "overflow_x": null,
            "overflow_y": null,
            "padding": null,
            "right": null,
            "top": null,
            "visibility": null,
            "width": null
          }
        },
        "0935799a4295442a844911b7b505bbc8": {
          "model_module": "@jupyter-widgets/controls",
          "model_name": "DescriptionStyleModel",
          "model_module_version": "1.5.0",
          "state": {
            "_model_module": "@jupyter-widgets/controls",
            "_model_module_version": "1.5.0",
            "_model_name": "DescriptionStyleModel",
            "_view_count": null,
            "_view_module": "@jupyter-widgets/base",
            "_view_module_version": "1.2.0",
            "_view_name": "StyleView",
            "description_width": ""
          }
        }
      }
    }
  },
  "cells": [
    {
      "cell_type": "markdown",
      "metadata": {
        "id": "view-in-github",
        "colab_type": "text"
      },
      "source": [
        "<a href=\"https://colab.research.google.com/github/laura-cramm/CIND-820-Big-Data-Analytics-Project/blob/main/CIND_820_Exploratory_Data_Analysis_(Core_Modules).ipynb\" target=\"_parent\"><img src=\"https://colab.research.google.com/assets/colab-badge.svg\" alt=\"Open In Colab\"/></a>"
      ]
    },
    {
      "cell_type": "markdown",
      "source": [
        "# <b>Conducting Exploratory Data Analysis Using YData Profiling</b>:\n",
        "###<b>Behavioural Risk Factor Surveillance System Standardized Questionnaire </b>"
      ],
      "metadata": {
        "id": "9s3QvXOmnWr4"
      }
    },
    {
      "cell_type": "markdown",
      "source": [
        "The Behavioural Risk Factor Surveillance System (BRFSS) consists of a standardized core questionnaire that all states are obligated to conduct, in addition to a series of optional modules and state-added questions. Here, exploratory data analysis will be conducted on the standardized core questionnaire specifically."
      ],
      "metadata": {
        "id": "JjB4wHX4oCCN"
      }
    },
    {
      "cell_type": "code",
      "source": [
        "!pip install ydata-profiling"
      ],
      "metadata": {
        "id": "NxL_vS-2nX1D",
        "colab": {
          "base_uri": "https://localhost:8080/"
        },
        "outputId": "305337af-0e33-402c-ed99-3955e277a588"
      },
      "execution_count": null,
      "outputs": [
        {
          "output_type": "stream",
          "name": "stdout",
          "text": [
            "Collecting ydata-profiling\n",
            "  Downloading ydata_profiling-4.8.3-py2.py3-none-any.whl (359 kB)\n",
            "\u001b[2K     \u001b[90m━━━━━━━━━━━━━━━━━━━━━━━━━━━━━━━━━━━━━━━━\u001b[0m \u001b[32m359.5/359.5 kB\u001b[0m \u001b[31m6.6 MB/s\u001b[0m eta \u001b[36m0:00:00\u001b[0m\n",
            "\u001b[?25hRequirement already satisfied: scipy<1.14,>=1.4.1 in /usr/local/lib/python3.10/dist-packages (from ydata-profiling) (1.11.4)\n",
            "Requirement already satisfied: pandas!=1.4.0,<3,>1.1 in /usr/local/lib/python3.10/dist-packages (from ydata-profiling) (2.0.3)\n",
            "Requirement already satisfied: matplotlib<3.9,>=3.2 in /usr/local/lib/python3.10/dist-packages (from ydata-profiling) (3.7.1)\n",
            "Requirement already satisfied: pydantic>=2 in /usr/local/lib/python3.10/dist-packages (from ydata-profiling) (2.7.3)\n",
            "Requirement already satisfied: PyYAML<6.1,>=5.0.0 in /usr/local/lib/python3.10/dist-packages (from ydata-profiling) (6.0.1)\n",
            "Requirement already satisfied: jinja2<3.2,>=2.11.1 in /usr/local/lib/python3.10/dist-packages (from ydata-profiling) (3.1.4)\n",
            "Collecting visions[type_image_path]<0.7.7,>=0.7.5 (from ydata-profiling)\n",
            "  Downloading visions-0.7.6-py3-none-any.whl (104 kB)\n",
            "\u001b[2K     \u001b[90m━━━━━━━━━━━━━━━━━━━━━━━━━━━━━━━━━━━━━━━━\u001b[0m \u001b[32m104.8/104.8 kB\u001b[0m \u001b[31m10.7 MB/s\u001b[0m eta \u001b[36m0:00:00\u001b[0m\n",
            "\u001b[?25hRequirement already satisfied: numpy<2,>=1.16.0 in /usr/local/lib/python3.10/dist-packages (from ydata-profiling) (1.25.2)\n",
            "Collecting htmlmin==0.1.12 (from ydata-profiling)\n",
            "  Downloading htmlmin-0.1.12.tar.gz (19 kB)\n",
            "  Preparing metadata (setup.py) ... \u001b[?25l\u001b[?25hdone\n",
            "Collecting phik<0.13,>=0.11.1 (from ydata-profiling)\n",
            "  Downloading phik-0.12.4-cp310-cp310-manylinux_2_17_x86_64.manylinux2014_x86_64.whl (686 kB)\n",
            "\u001b[2K     \u001b[90m━━━━━━━━━━━━━━━━━━━━━━━━━━━━━━━━━━━━━━━━\u001b[0m \u001b[32m686.1/686.1 kB\u001b[0m \u001b[31m27.8 MB/s\u001b[0m eta \u001b[36m0:00:00\u001b[0m\n",
            "\u001b[?25hRequirement already satisfied: requests<3,>=2.24.0 in /usr/local/lib/python3.10/dist-packages (from ydata-profiling) (2.31.0)\n",
            "Requirement already satisfied: tqdm<5,>=4.48.2 in /usr/local/lib/python3.10/dist-packages (from ydata-profiling) (4.66.4)\n",
            "Requirement already satisfied: seaborn<0.14,>=0.10.1 in /usr/local/lib/python3.10/dist-packages (from ydata-profiling) (0.13.1)\n",
            "Collecting multimethod<2,>=1.4 (from ydata-profiling)\n",
            "  Downloading multimethod-1.11.2-py3-none-any.whl (10 kB)\n",
            "Requirement already satisfied: statsmodels<1,>=0.13.2 in /usr/local/lib/python3.10/dist-packages (from ydata-profiling) (0.14.2)\n",
            "Collecting typeguard<5,>=3 (from ydata-profiling)\n",
            "  Downloading typeguard-4.3.0-py3-none-any.whl (35 kB)\n",
            "Collecting imagehash==4.3.1 (from ydata-profiling)\n",
            "  Downloading ImageHash-4.3.1-py2.py3-none-any.whl (296 kB)\n",
            "\u001b[2K     \u001b[90m━━━━━━━━━━━━━━━━━━━━━━━━━━━━━━━━━━━━━━━━\u001b[0m \u001b[32m296.5/296.5 kB\u001b[0m \u001b[31m20.9 MB/s\u001b[0m eta \u001b[36m0:00:00\u001b[0m\n",
            "\u001b[?25hRequirement already satisfied: wordcloud>=1.9.1 in /usr/local/lib/python3.10/dist-packages (from ydata-profiling) (1.9.3)\n",
            "Collecting dacite>=1.8 (from ydata-profiling)\n",
            "  Downloading dacite-1.8.1-py3-none-any.whl (14 kB)\n",
            "Requirement already satisfied: numba<1,>=0.56.0 in /usr/local/lib/python3.10/dist-packages (from ydata-profiling) (0.58.1)\n",
            "Requirement already satisfied: PyWavelets in /usr/local/lib/python3.10/dist-packages (from imagehash==4.3.1->ydata-profiling) (1.6.0)\n",
            "Requirement already satisfied: pillow in /usr/local/lib/python3.10/dist-packages (from imagehash==4.3.1->ydata-profiling) (9.4.0)\n",
            "Requirement already satisfied: MarkupSafe>=2.0 in /usr/local/lib/python3.10/dist-packages (from jinja2<3.2,>=2.11.1->ydata-profiling) (2.1.5)\n",
            "Requirement already satisfied: contourpy>=1.0.1 in /usr/local/lib/python3.10/dist-packages (from matplotlib<3.9,>=3.2->ydata-profiling) (1.2.1)\n",
            "Requirement already satisfied: cycler>=0.10 in /usr/local/lib/python3.10/dist-packages (from matplotlib<3.9,>=3.2->ydata-profiling) (0.12.1)\n",
            "Requirement already satisfied: fonttools>=4.22.0 in /usr/local/lib/python3.10/dist-packages (from matplotlib<3.9,>=3.2->ydata-profiling) (4.53.0)\n",
            "Requirement already satisfied: kiwisolver>=1.0.1 in /usr/local/lib/python3.10/dist-packages (from matplotlib<3.9,>=3.2->ydata-profiling) (1.4.5)\n",
            "Requirement already satisfied: packaging>=20.0 in /usr/local/lib/python3.10/dist-packages (from matplotlib<3.9,>=3.2->ydata-profiling) (24.0)\n",
            "Requirement already satisfied: pyparsing>=2.3.1 in /usr/local/lib/python3.10/dist-packages (from matplotlib<3.9,>=3.2->ydata-profiling) (3.1.2)\n",
            "Requirement already satisfied: python-dateutil>=2.7 in /usr/local/lib/python3.10/dist-packages (from matplotlib<3.9,>=3.2->ydata-profiling) (2.8.2)\n",
            "Requirement already satisfied: llvmlite<0.42,>=0.41.0dev0 in /usr/local/lib/python3.10/dist-packages (from numba<1,>=0.56.0->ydata-profiling) (0.41.1)\n",
            "Requirement already satisfied: pytz>=2020.1 in /usr/local/lib/python3.10/dist-packages (from pandas!=1.4.0,<3,>1.1->ydata-profiling) (2023.4)\n",
            "Requirement already satisfied: tzdata>=2022.1 in /usr/local/lib/python3.10/dist-packages (from pandas!=1.4.0,<3,>1.1->ydata-profiling) (2024.1)\n",
            "Requirement already satisfied: joblib>=0.14.1 in /usr/local/lib/python3.10/dist-packages (from phik<0.13,>=0.11.1->ydata-profiling) (1.4.2)\n",
            "Requirement already satisfied: annotated-types>=0.4.0 in /usr/local/lib/python3.10/dist-packages (from pydantic>=2->ydata-profiling) (0.7.0)\n",
            "Requirement already satisfied: pydantic-core==2.18.4 in /usr/local/lib/python3.10/dist-packages (from pydantic>=2->ydata-profiling) (2.18.4)\n",
            "Requirement already satisfied: typing-extensions>=4.6.1 in /usr/local/lib/python3.10/dist-packages (from pydantic>=2->ydata-profiling) (4.12.1)\n",
            "Requirement already satisfied: charset-normalizer<4,>=2 in /usr/local/lib/python3.10/dist-packages (from requests<3,>=2.24.0->ydata-profiling) (3.3.2)\n",
            "Requirement already satisfied: idna<4,>=2.5 in /usr/local/lib/python3.10/dist-packages (from requests<3,>=2.24.0->ydata-profiling) (3.7)\n",
            "Requirement already satisfied: urllib3<3,>=1.21.1 in /usr/local/lib/python3.10/dist-packages (from requests<3,>=2.24.0->ydata-profiling) (2.0.7)\n",
            "Requirement already satisfied: certifi>=2017.4.17 in /usr/local/lib/python3.10/dist-packages (from requests<3,>=2.24.0->ydata-profiling) (2024.6.2)\n",
            "Requirement already satisfied: patsy>=0.5.6 in /usr/local/lib/python3.10/dist-packages (from statsmodels<1,>=0.13.2->ydata-profiling) (0.5.6)\n",
            "Requirement already satisfied: attrs>=19.3.0 in /usr/local/lib/python3.10/dist-packages (from visions[type_image_path]<0.7.7,>=0.7.5->ydata-profiling) (23.2.0)\n",
            "Requirement already satisfied: networkx>=2.4 in /usr/local/lib/python3.10/dist-packages (from visions[type_image_path]<0.7.7,>=0.7.5->ydata-profiling) (3.3)\n",
            "Requirement already satisfied: six in /usr/local/lib/python3.10/dist-packages (from patsy>=0.5.6->statsmodels<1,>=0.13.2->ydata-profiling) (1.16.0)\n",
            "Building wheels for collected packages: htmlmin\n",
            "  Building wheel for htmlmin (setup.py) ... \u001b[?25l\u001b[?25hdone\n",
            "  Created wheel for htmlmin: filename=htmlmin-0.1.12-py3-none-any.whl size=27080 sha256=15f25e76d0cd70e86336d52c97bb281142848140a803e7f38771d8f7a40d3a74\n",
            "  Stored in directory: /root/.cache/pip/wheels/dd/91/29/a79cecb328d01739e64017b6fb9a1ab9d8cb1853098ec5966d\n",
            "Successfully built htmlmin\n",
            "Installing collected packages: htmlmin, typeguard, multimethod, dacite, imagehash, visions, phik, ydata-profiling\n",
            "Successfully installed dacite-1.8.1 htmlmin-0.1.12 imagehash-4.3.1 multimethod-1.11.2 phik-0.12.4 typeguard-4.3.0 visions-0.7.6 ydata-profiling-4.8.3\n"
          ]
        }
      ]
    },
    {
      "cell_type": "code",
      "source": [
        "import numpy as np\n",
        "import pandas as pd\n",
        "from ydata_profiling import ProfileReport"
      ],
      "metadata": {
        "id": "HeWjGW0H0dvL"
      },
      "execution_count": null,
      "outputs": []
    },
    {
      "cell_type": "code",
      "source": [
        "#Reading the csv file containing the standardized core BRFSS data and saving\n",
        "#it to a pandas data frame\n",
        "brfssCore = pd.read_csv(\"/content/CoreSurvey.csv\")"
      ],
      "metadata": {
        "id": "XqBhbuvA0cX5"
      },
      "execution_count": null,
      "outputs": []
    },
    {
      "cell_type": "code",
      "source": [
        "#The COVIDPOS variable represents the answer to the question: \"Has a doctor,\n",
        "#nurse, or other health professional ever told you that you tested positive for COVID 19\"\n",
        "#A value of 1 represents a \"Yes\", 2 represents a \"No\", and 3 represents \"Tested positive\n",
        "#using home test without health professional\". All other values indicate missing data.\n",
        "\n",
        "#Converting the COVIDPOS variable to a Boolean, where 1 and 3 are equivalent to 'True'\n",
        "#and 2 is equivalent to 'False'\n",
        "brfssCore['COVIDPOS'] = brfssCore['COVIDPOS'] = np.select([np.logical_or(brfssCore['COVIDPOS'] == 1, brfssCore['COVIDPOS'] == 3), (brfssCore['COVIDPOS'] == 2)],\n",
        "                                  [True, False], default=None)"
      ],
      "metadata": {
        "id": "5dwGuUjsiUBN"
      },
      "execution_count": null,
      "outputs": []
    },
    {
      "cell_type": "code",
      "source": [
        "#Removing all individuals who never tested positive for COIVD-19 (or had a missing\n",
        "#value for the COVIDPOS variable) from the data frame.\n",
        "brfssCore = brfssCore[(brfssCore[\"COVIDPOS\"] == True)]"
      ],
      "metadata": {
        "id": "baECiq-TjYWF"
      },
      "execution_count": null,
      "outputs": []
    },
    {
      "cell_type": "code",
      "source": [
        "#The MENTHLTH variable represents the answer to the question:\n",
        "#\"Now thinking about your mental health, which includes stress, depression, and problems with emotions,\n",
        "#for how many days during the past 30 days was your mental health not good?\"\n",
        "#This key outcome variable will be dichotomized, with 14 or more days\n",
        "#indicating frequent mental distress.\n",
        "brfssCore['MENTHLTH'] = np.select([np.logical_or(brfssCore['MENTHLTH'] == 88, brfssCore['MENTHLTH']<14), np.logical_or(brfssCore['MENTHLTH'] == 77, brfssCore['MENTHLTH'] == 99)],\n",
        "                                  [False, None], default=True)\n"
      ],
      "metadata": {
        "id": "PFKVL2fYgaI8"
      },
      "execution_count": null,
      "outputs": []
    },
    {
      "cell_type": "code",
      "source": [
        "#Removing the underscore from the _STATE attribute name.\n",
        "brfssCore.rename(columns={'_STATE': 'STATE'}, inplace=True)\n",
        "\n",
        "#Removing the underscore from the _BMI5CAT attribute name.\n",
        "brfssCore.rename(columns={'_BMI5CAT': 'BMI5CAT'}, inplace=True)\n",
        "\n",
        "#Removing the underscore from the _SMOKER3 attribute name\n",
        "brfssCore.rename(columns={'_SMOKER3': 'SMOKER3'}, inplace=True)\n",
        "\n",
        "#Sorting the attribute names alphabetically.\n",
        "brfssCore = brfssCore.sort_index(axis=1)\n",
        "\n",
        "#Attributes that start with an underscore were calculated by the CDC staff using other attributes.\n",
        "#Removing these attributes\n",
        "brfssCore = brfssCore.drop(brfssCore.loc[:, '_AIDTST4':'_YRSSMOK'].columns, axis=1)\n",
        "brfssCore = brfssCore.drop(['ALCDAY4', 'WEIGHT2', 'HEIGHT3', 'HTIN4'], axis=1)"
      ],
      "metadata": {
        "id": "s9a0kQPSBfGu"
      },
      "execution_count": null,
      "outputs": []
    },
    {
      "cell_type": "code",
      "source": [
        "#Converting dichotomous categorical variables to Booleans\n",
        "#1 is YES, 2 is NO, otherwise MISSING\n",
        "for col in ['CTELENM1', 'PVTRESD1', 'CELPHON1', 'LADULT1', 'CTELNUM1', 'PVTRESD3',\n",
        "            'CSTATE1', 'RESPSLCT', 'LANDLINE', 'MEDCOST1', 'EXERANY2', 'CVDINFR4',\n",
        "            'CVDCRHD4', 'CVDSTRK3', 'ASTHMA3', 'ASTHNOW', 'CHCSCNC1', 'CHCOCNC1',\n",
        "            'CHCCOPD3', 'ADDEPEV3', 'CHCKDNY2', 'HAVARTH4', 'NUMHHOL4', 'VETERAN3',\n",
        "            'PREGNANT', 'DEAF', 'BLIND', 'DECIDE', 'DIFFWALK', 'DIFFDRES',\n",
        "            'DIFFALON', 'HADMAM', 'CERVSCRN', 'CRVCLPAP', 'CRVCLHPV', 'HADHYST2',\n",
        "            'HADSIGM4', 'COLNCNCR', 'VIRCOLO1', 'SMALSTOL', 'STOOLDN2', 'BLDSTFIT',\n",
        "            'SMOKE100', 'LCSCTSC1', 'LCSSCNCR', 'FLUSHOT7', 'PNEUVAC4', 'HIVTST7',\n",
        "            'HIVRISK5', 'COVIDSMP', 'INSULIN1', 'FEETSORE', 'SHINGLE2', 'COVIDVA1',\n",
        "            'COPDCOGH', 'COPDFLEM', 'COPDBRTH', 'COPDBTST', 'CSRVSUM', 'CSRVRTRN',\n",
        "            'CSRVINST', 'CSRVINSR', 'CSRVDEIN', 'CSRVCLIN', 'CSRVPAIN', 'PSATEST1',\n",
        "            'CIMEMLOS', 'CDDISCUS', 'CRGVALZD', 'CRGVPER1', 'CRGVHOU1', 'CRGVEXPT',\n",
        "            'ACEDEPRS', 'ACEDRINK', 'ACEDRUGS', 'ACEPRISN', 'ACEDIVRC', 'SDHEMPLY',\n",
        "            'FOODSTMP', 'SDHBILLS', 'SDHUTILS', 'SDHTRNSP', 'MARJSMOK', 'MARJEAT',\n",
        "            'MARJVAPE', 'MARJDAB', 'MARJOTHR', 'STOPSMK2', 'MENTCIGS', 'MENTECIG',\n",
        "            'HEATTBCO', 'ASBIALCH', 'ASBIDRNK', 'ASBIBING', 'ASBIADVC', 'ASBIRDUC',\n",
        "            'FIREARM5', 'GUNLOAD', 'LOADULK2', 'CASTHDX2', 'CASTHNO2', 'HADSEX',\n",
        "            'PFPPRVN4', 'RRPHYSM2', 'HPVADVC4', 'DRNKANY6', 'CAREGIV1']:\n",
        "  brfssCore[col] = np.select([(brfssCore[col] == 1), (brfssCore[col] == 2)],\n",
        "                                  [True, False], default=None)\n",
        "\n",
        "#Sex is coded as a dichtomous variable, where 1=Male and 2=Female.\n",
        "#Converting to a boolean variable where Female=True and Male=False\n",
        "brfssCore['SEXVAR'] = np.select([(brfssCore['SEXVAR'] == 2), (brfssCore['SEXVAR'] == 1)],\n",
        "                                  [True, False], default=None)"
      ],
      "metadata": {
        "id": "0HKgkCG2NBbW"
      },
      "execution_count": null,
      "outputs": []
    },
    {
      "cell_type": "code",
      "source": [
        "#Converting dichotomous categorical variables to Booleans. In this case,\n",
        "#the variables are either True or have a missing value.\n",
        "#1 is YES, Otherwise is MISSING\n",
        "for col in ['COLGHOUS', 'STATERE1', 'SAFETIME', 'CELLFON5', 'CADULT1','CCLGHOUS']:\n",
        "  brfssCore[col] = np.where((brfssCore[col] == 1), True, None)"
      ],
      "metadata": {
        "id": "uu-oAqa3NGhn"
      },
      "execution_count": null,
      "outputs": []
    },
    {
      "cell_type": "code",
      "source": [
        "#The following variables are numeric, but have multiple values that indicate\n",
        "#a missing observation. For example, the 'HHADULT' variable represents the\n",
        "#number of adults in the household. A value of 88, 77, or 99 indicates missing data.\n",
        "\n",
        "#Altering numeric variables so that only a value of 'None' indicates missing data.\n",
        "brfssCore['HHADULT'] = np.where(np.logical_or(brfssCore['HHADULT'] == 77, brfssCore['HHADULT'] == 88, brfssCore['HHADULT'] == 99), None, brfssCore['HHADULT'])\n",
        "\n",
        "for col in ['POORHLTH', 'AVEDRNK3', 'DRNK3GE5', 'COPDSMOK', 'MARIJAN1', 'PHYSHLTH']:\n",
        "  brfssCore[col] = np.select([(brfssCore[col] == 88), np.logical_or(brfssCore[col] == 77, brfssCore[col] == 99)],\n",
        "                                  [0, None], default=brfssCore[col])\n",
        "\n",
        "\n",
        "for col in ['SLEPTIM1', 'MAXDRNKS']:\n",
        "  brfssCore[col] = np.where(np.logical_or(brfssCore[col] == 77, brfssCore[col] == 99), None, brfssCore[col])\n",
        "\n",
        "brfssCore['CHILDREN'] = np.select([(brfssCore['CHILDREN'] == 88), (brfssCore['CHILDREN'] == 99)],\n",
        "                                  [0, None], default=brfssCore['CHILDREN'])\n",
        "\n",
        "\n",
        "brfssCore['LCSFIRST'] = np.where(np.logical_or(brfssCore['LCSFIRST'] == 777, brfssCore['LCSFIRST'] == 888, brfssCore['LCSFIRST'] == 999), None, brfssCore['LCSFIRST'])\n",
        "\n",
        "\n",
        "for col in ['LCSLAST', 'LCSNUMCG']:\n",
        "  brfssCore[col] = np.where(np.logical_or(brfssCore[col] == 777, brfssCore[col] == 999), None, brfssCore[col])\n",
        "\n",
        "\n",
        "brfssCore['CHKHEMO3'] = np.select([np.logical_or(brfssCore['CHKHEMO3'] == 88, brfssCore['CHKHEMO3'] == 98), np.logical_or(brfssCore['CHKHEMO3'] == 77, brfssCore['CHKHEMO3'] == 99)],\n",
        "                                  [0, None], default=brfssCore['CHKHEMO3'])\n",
        "\n",
        "\n",
        "brfssCore['CNCRAGE'] = np.where(np.logical_or(brfssCore['CNCRAGE'] == 98, brfssCore['CNCRAGE'] == 99), None, brfssCore['CNCRAGE'])\n",
        "\n",
        "brfssCore['DROCDY4_'] = np.where((brfssCore['DROCDY4_'] == 900), None, brfssCore['DROCDY4_'])\n"
      ],
      "metadata": {
        "id": "V2K0_mWMNJM0"
      },
      "execution_count": null,
      "outputs": []
    },
    {
      "cell_type": "code",
      "source": [
        "#The following variables are ordinal, but also have multiple values that indicate\n",
        "#missing data. Altering these variables so that only a value of 'None' indicates missing data.\n",
        "\n",
        "for col in ['GENHLTH','COLNTES1', 'SIGMTES1', 'LASTSIG4', 'VCLNTES2', 'STOLTEST', 'SDNATES1',\n",
        "            'SMOKDAY2', 'USENOW3',  'ECIGNOW2',  'LCSCTWHN',  'TETANUS1', 'PERSDOC3',\n",
        "            'DIABETE4', 'HOWLONG', 'CRVCLCNC', 'PREDIAB2', 'COVACGET',  'COVIDNU1',\n",
        "            'COVIDINT', 'CNCRDIFF', 'CSRVCTL2', 'PSATIME1', 'CDHOUSE',   'CDASSIST',\n",
        "            'CDHELP',   'CDSOCIAL', 'CRGVLNG1',  'CRGVHRS1', 'ACEPUNCH', 'ACEHURT1',\n",
        "            'ACESWEAR',   'ACETOUCH',  'ACETTHEM', 'ACEHVSEX',  'ACEADSAF',   'ACEADNED',\n",
        "            'LSATISFY',  'EMTSUPRT',   'SDHISOLT',    'SDHFOOD1',   'SDHSTRE1',   'RRCOGNT2',\n",
        "            'RRTREAT',  'RRATWRK2']:\n",
        "            brfssCore[col] = np.where(np.logical_or(brfssCore[col] == 7, brfssCore[col] == 9), None, brfssCore[col])\n",
        "\n",
        "\n",
        "\n",
        "brfssCore['CHECKUP1'] = np.where(np.logical_or(brfssCore['CHECKUP1'] == 7, brfssCore['CHECKUP1'] == 8, brfssCore['CHECKUP1'] == 9), None, brfssCore['CHECKUP1'])\n",
        "\n",
        "A = np.logical_or(brfssCore['LASTDEN4'] == 5, brfssCore['LASTDEN4'] == 7)\n",
        "B = np.logical_or(brfssCore['LASTDEN4'] == 8, brfssCore['LASTDEN4'] == 9)\n",
        "brfssCore['LASTDEN4'] = np.where(np.logical_or(A, B), None, brfssCore['LASTDEN4'])\n",
        "\n",
        "\n",
        "for col in ['RMVTETH4', 'PDIABTS1', 'EYEEXAM1', 'DIABEYE1', 'DIABEDU1' ]:\n",
        "  brfssCore[col] = np.select([(brfssCore[col] == 8), np.logical_or(brfssCore[col] == 7, brfssCore[col] == 9)],\n",
        "                                  [0, None], default=brfssCore[col])\n",
        "\n",
        "for col in ['SMOKER3', 'EDUCA']:\n",
        "  brfssCore[col] = np.where((brfssCore[col] == 9), None, brfssCore[col])\n",
        "\n",
        "for col in ['INCOME3', 'HPVADSHT', 'LASTSMK2']:\n",
        "  brfssCore[col] = np.where(np.logical_or(brfssCore[col] == 77, brfssCore[col] == 99), None, brfssCore[col])\n",
        "\n",
        "brfssCore['RRHCARE4'] = np.where(np.logical_or(brfssCore['RRHCARE4'] == 6, brfssCore['RRHCARE4'] == 7, brfssCore['RRHCARE4'] == 9), None, brfssCore['RRHCARE4'])\n",
        "\n",
        "\n",
        "brfssCore['_AGEG5YR'] = np.where((brfssCore['_AGEG5YR'] == 14), None, brfssCore['_AGEG5YR'])\n",
        "\n",
        "brfssCore['_AGE65YR'] = np.where((brfssCore['_AGE65YR'] == 3), None, brfssCore['_AGE65YR'])\n",
        "\n",
        "\n",
        "#Using the .astype() function to give ordinal variables the 'category' data type\n",
        "for col in ['GENHLTH','COLNTES1', 'SIGMTES1', 'LASTSIG4', 'VCLNTES2', 'STOLTEST', 'SDNATES1',\n",
        "            'SMOKDAY2', 'USENOW3',  'ECIGNOW2',  'LCSCTWHN',  'TETANUS1', 'PERSDOC3',\n",
        "            'DIABETE4', 'HOWLONG', 'CRVCLCNC', 'PREDIAB2', 'COVACGET',  'COVIDNU1',\n",
        "            'COVIDINT', 'CNCRDIFF', 'CSRVCTL2', 'PSATIME1', 'CDHOUSE',   'CDASSIST',\n",
        "            'CDHELP',   'CDSOCIAL', 'CRGVLNG1',  'CRGVHRS1', 'ACEPUNCH', 'ACEHURT1',\n",
        "            'ACESWEAR',   'ACETOUCH',  'ACETTHEM', 'ACEHVSEX',  'ACEADSAF',   'ACEADNED',\n",
        "            'LSATISFY',  'EMTSUPRT',   'SDHISOLT',    'SDHFOOD1',   'SDHSTRE1',   'RRCOGNT2',\n",
        "            'RRTREAT',  'RRATWRK2', 'CHECKUP1', 'LASTDEN4', 'RMVTETH4', 'PDIABTS1', 'EYEEXAM1', 'DIABEYE1', 'DIABEDU1',\n",
        "            'EDUCA', 'INCOME3', 'HPVADSHT', 'LASTSMK2', 'RRHCARE4', '_AGEG5YR', '_AGE65YR',  'BMI5CAT', 'SMOKER3' ]:\n",
        "    brfssCore[col] = brfssCore[col].astype('category')"
      ],
      "metadata": {
        "id": "1XuyBSeFNOQF"
      },
      "execution_count": null,
      "outputs": []
    },
    {
      "cell_type": "code",
      "source": [
        "#These variables are nominal; dummy variables will be created using\n",
        "#one-hot encoding.\n",
        "for col in ['STATE', 'FMONTH','IMONTH','SEXVAR', 'QSTVER','QSTLANG','MSCODE']:\n",
        "  brfssCore = pd.concat([brfssCore, pd.get_dummies(brfssCore[col], prefix=col)], axis=1)\n",
        "\n",
        "#First altering these variables so that only a value of 'None' indicates missing data.\n",
        "brfssCore['IDAY'] = np.where((brfssCore['IDAY'] == 0), None, brfssCore['IDAY'])\n",
        "\n",
        "brfssCore['LANDSEX1'] = np.where(np.logical_or(brfssCore['LANDSEX1'] == 0, brfssCore['LANDSEX1'] == 7, brfssCore['LANDSEX1'] == 9), None, brfssCore['LANDSEX1'])\n",
        "\n",
        "for col in ['CELLSEX1', 'RENTHOM1', 'COLNSIGM', 'DIABTYPE', 'CSRVTRT3',\n",
        "            'PCPSARS2', 'PSASUGST', 'PCSTALK1', 'RCSXBRTH', 'RCSRLTN2','BIRTHSEX',\n",
        "            'SOMALE', 'SOFEMALE', 'TRNSGNDR']:\n",
        "            brfssCore[col] = np.where(np.logical_or(brfssCore[col] == 7, brfssCore[col] == 9), None, brfssCore[col])\n",
        "\n",
        "brfssCore['PRIMINSR'] = np.select([(brfssCore['PRIMINSR'] == 88), np.logical_or(brfssCore['PRIMINSR'] == 77, brfssCore['PRIMINSR'] == 99)],\n",
        "                                  [0, None], default=brfssCore['PRIMINSR'])\n",
        "\n",
        "\n",
        "for col in ['MARITAL', 'EMPLOY1', 'RCSGEND1']:\n",
        "  brfssCore[col] = np.where((brfssCore[col] == 9), None, brfssCore[col])\n",
        "\n",
        "\n",
        "for col in ['COVIDPRM','IMFVPLA3','CNCRTYP2','CSRVDOC1', 'CRGVREL4',\n",
        "            'CRGVPRB3', 'TYPCNTR9','BRTHCNT4','WHEREGET', 'NOBCUSE8',\n",
        "            'BCPREFER','RRCLASS3']:\n",
        "            brfssCore[col] = np.where(np.logical_or(brfssCore[col] == 77, brfssCore[col] == 99), None, brfssCore[col])\n",
        "\n",
        "#Generating dummy variables\n",
        "for col in ['IDAY', 'LANDSEX1', 'CELLSEX1', 'RENTHOM1', 'COLNSIGM', 'DIABTYPE', 'CSRVTRT3',\n",
        "            'PCPSARS2', 'PSASUGST', 'PCSTALK1', 'RCSXBRTH', 'RCSRLTN2','BIRTHSEX',\n",
        "            'SOMALE', 'SOFEMALE', 'TRNSGNDR', 'PRIMINSR',  'MARITAL', 'EMPLOY1', 'RCSGEND1', 'COVIDPRM','IMFVPLA3','CNCRTYP2','CSRVDOC1', 'CRGVREL4',\n",
        "            'CRGVPRB3', 'TYPCNTR9','BRTHCNT4','WHEREGET', 'NOBCUSE8',\n",
        "            'BCPREFER','RRCLASS3']:\n",
        "  brfssCore = pd.concat([brfssCore, pd.get_dummies(brfssCore[col], prefix=col)], axis=1)"
      ],
      "metadata": {
        "id": "h-l84fxUNVtp"
      },
      "execution_count": null,
      "outputs": []
    },
    {
      "cell_type": "code",
      "source": [
        "from datetime import datetime"
      ],
      "metadata": {
        "id": "60PvpJ51oVth"
      },
      "execution_count": null,
      "outputs": []
    },
    {
      "cell_type": "code",
      "source": [
        "#These variables represent dates. Processing is required to convert these\n",
        "#variables to date objects.\n",
        "\n",
        "for col in ['FLSHTMY3', 'HIVTSTD3','COVIDFS1', 'COVIDSE1']:\n",
        "#Converting to a string object\n",
        "  brfssCore[col] = brfssCore[col].astype('string')\n",
        "#Removing decimal places\n",
        "  brfssCore[col] = brfssCore[col].str.replace('.0', '')\n",
        "#If string is null, replacing with '-1'\n",
        "  brfssCore[col] = np.where((brfssCore[col].isnull()), '-1', brfssCore[col])"
      ],
      "metadata": {
        "id": "C6nl9egDoakJ"
      },
      "execution_count": null,
      "outputs": []
    },
    {
      "cell_type": "code",
      "source": [
        "#Adding preceding zero if the month is only one digit (Ex. 1 to 01)\n",
        "for col in ['FLSHTMY3', 'HIVTSTD3','COVIDFS1', 'COVIDSE1']:\n",
        "  for i in range(len(brfssCore[col])):\n",
        "    if len(brfssCore.loc[brfssCore.index[i], col]) == 5:\n",
        "      brfssCore.loc[brfssCore.index[i], col] = '0' + brfssCore.loc[brfssCore.index[i], col]"
      ],
      "metadata": {
        "id": "_U7NBWch8CBc"
      },
      "execution_count": null,
      "outputs": []
    },
    {
      "cell_type": "code",
      "source": [
        "#Some additional values represent a null value; setting to None\n",
        "for col in ['FLSHTMY3', 'HIVTSTD3','COVIDFS1', 'COVIDSE1']:\n",
        "  for i in range(len(brfssCore[col])):\n",
        "    if np.logical_or(brfssCore.loc[brfssCore.index[i], col].endswith('7777'),\n",
        "                     brfssCore.loc[brfssCore.index[i], col].endswith('9999'), ):\n",
        "\n",
        "      brfssCore.loc[brfssCore.index[i], col] = None"
      ],
      "metadata": {
        "id": "783WYj8y_5er"
      },
      "execution_count": null,
      "outputs": []
    },
    {
      "cell_type": "code",
      "source": [
        "#Converting all None values to '052024' (which doesn't otherwise appear in dataset)\n",
        "for col in ['FLSHTMY3', 'HIVTSTD3','COVIDFS1', 'COVIDSE1']:\n",
        "  for i in range(len(brfssCore[col])):\n",
        "    if brfssCore.loc[brfssCore.index[i], col] == '-1':\n",
        "      brfssCore.loc[brfssCore.index[i], col] = None\n",
        "    if brfssCore.loc[brfssCore.index[i], col] == None:\n",
        "      brfssCore.loc[brfssCore.index[i], col] = \"052024\""
      ],
      "metadata": {
        "id": "tK9dGupLAj4Q"
      },
      "execution_count": null,
      "outputs": []
    },
    {
      "cell_type": "code",
      "source": [
        "#Converting strings to datetime objects using the strptime() function\n",
        "for col in ['FLSHTMY3', 'HIVTSTD3','COVIDFS1', 'COVIDSE1']:\n",
        "  for i in range(len(brfssCore[col])):\n",
        "    #If month is missing, only extract year\n",
        "    if np.logical_or(brfssCore.loc[brfssCore.index[i], col].startswith('77'),\n",
        "                     brfssCore.loc[brfssCore.index[i], col].startswith('99'), ):\n",
        "      brfssCore.loc[brfssCore.index[i], col] =brfssCore.loc[brfssCore.index[i], col][2:]\n",
        "      brfssCore.loc[brfssCore.index[i], col] = datetime.strptime(brfssCore.loc[brfssCore.index[i], col], '%Y')\n",
        "    else:\n",
        "      #Otherwise format is mmYYYY\n",
        "       brfssCore.loc[brfssCore.index[i], col] = datetime.strptime(brfssCore.loc[brfssCore.index[i], col], '%m%Y')"
      ],
      "metadata": {
        "id": "23hRUIBWANGt",
        "collapsed": true
      },
      "execution_count": null,
      "outputs": []
    },
    {
      "cell_type": "code",
      "source": [
        "#Converting observations that were originally missing back to None values\n",
        "#(the strptime() function cannot handle null values, so a temporary placeholder\n",
        "#was necessary)\n",
        "for col in ['FLSHTMY3', 'HIVTSTD3','COVIDFS1', 'COVIDSE1']:\n",
        "  for i in range(len(brfssCore[col])):\n",
        "    if brfssCore.loc[brfssCore.index[i], col].year ==2024:\n",
        "      brfssCore.loc[brfssCore.index[i], col] = None"
      ],
      "metadata": {
        "id": "5qVEXOzHob4k"
      },
      "execution_count": null,
      "outputs": []
    },
    {
      "cell_type": "code",
      "source": [
        "#'IDATE' (interview date) also needs to be converted to a date object\n",
        "#but it has a different format than the preceding date variables (mmddYYY vs. mmYYYY)\n",
        "\n",
        "#Converting to a string object\n",
        "brfssCore['IDATE'] = brfssCore['IDATE'].astype('string')\n",
        "#Removing decimal places\n",
        "brfssCore['IDATE'] = brfssCore['IDATE'].str.replace('.0', '')"
      ],
      "metadata": {
        "id": "t_Kl0YQLUheJ"
      },
      "execution_count": null,
      "outputs": []
    },
    {
      "cell_type": "code",
      "source": [
        "#Adding preceding zero if the day is only one digit (Ex. 1 to 01)\n",
        "for i in range(len(brfssCore['IDATE'])):\n",
        "  if len(brfssCore.loc[brfssCore.index[i], 'IDATE']) == 7:\n",
        "    brfssCore.loc[brfssCore.index[i], 'IDATE'] = '0' + brfssCore.loc[brfssCore.index[i], 'IDATE']"
      ],
      "metadata": {
        "id": "3BaZnBg1ULAG"
      },
      "execution_count": null,
      "outputs": []
    },
    {
      "cell_type": "code",
      "source": [
        "#Converting strings to datetime objects\n",
        "for i in range(len(brfssCore['IDATE'])):\n",
        "    brfssCore.loc[brfssCore.index[i], 'INTERVIEWDATE'] = datetime.strptime(brfssCore.loc[brfssCore.index[i], 'IDATE'], '%m%d%Y')"
      ],
      "metadata": {
        "colab": {
          "base_uri": "https://localhost:8080/"
        },
        "id": "-2xCppKsULTu",
        "outputId": "0d70fe10-0cde-459a-bf85-bdbade21b438"
      },
      "execution_count": null,
      "outputs": [
        {
          "output_type": "stream",
          "name": "stderr",
          "text": [
            "<ipython-input-22-83bef59ba8e7>:3: PerformanceWarning: DataFrame is highly fragmented.  This is usually the result of calling `frame.insert` many times, which has poor performance.  Consider joining all columns at once using pd.concat(axis=1) instead. To get a de-fragmented frame, use `newframe = frame.copy()`\n",
            "  brfssCore.loc[brfssCore.index[i], 'INTERVIEWDATE'] = datetime.strptime(brfssCore.loc[brfssCore.index[i], 'IDATE'], '%m%d%Y')\n"
          ]
        }
      ]
    },
    {
      "cell_type": "code",
      "source": [
        "brfssCore = brfssCore.drop(['IDATE'], axis=1)"
      ],
      "metadata": {
        "id": "Eo5kxpfFbx41"
      },
      "execution_count": null,
      "outputs": []
    },
    {
      "cell_type": "code",
      "source": [
        "#Using the ydata_profiling library to generate an exploratory data analysis report\n",
        "edaCore = ProfileReport(brfssCore, title=\"Exploratory Data Analysis\", minimal=True)"
      ],
      "metadata": {
        "id": "N-ctD_ld1FDf"
      },
      "execution_count": null,
      "outputs": []
    },
    {
      "cell_type": "code",
      "source": [
        "#Saving this exploratory data analysis report to an .html file.\n",
        "edaCore.to_file(\"exploratory_data_analysis_core_modules.html\")"
      ],
      "metadata": {
        "colab": {
          "base_uri": "https://localhost:8080/",
          "height": 200,
          "referenced_widgets": [
            "31643aa711ca4d80a1420239c153da3a",
            "5ac4b63ac5b74343ac6408f57583c7ac",
            "779047af0af846749b46034859c64240",
            "41341da47ec4461fb2db25e444f9a5d5",
            "3fadb3d9349e4b8894f586e714bcef26",
            "1d731b93e0e24de38156c64b50fa5879",
            "78d4ab6ff0d348769a213a3fad207ae4",
            "fdc66e79ff7342ac80c93a83431f7190",
            "4f83550823134f6c8f25cf90a18b12d5",
            "0e0f1370fef64281ab30a73a967242fb",
            "ec57f02c8a7b4491bc25620022092581",
            "89ca7ade31fd430fa9958c1392548286",
            "72e094a38d5b46ea997a5acdba988642",
            "d6660b5dfd6f473a96b209e1f5287b51",
            "21715424d5fc46388a97880a9abc8c1d",
            "bb66974c40944aba9aa0a1f359e16433",
            "29b451eed9d94bcc8c57259910faf772",
            "d414d346a17d431c96db451cee48e533",
            "f734df7aa3a346fb98a3e25b09094ec4",
            "3b3b00e708684bc29f38f440baf70957",
            "f0a3536575d94ea3ab998737aaeb9de2",
            "d392981b84cd43248cf024b2f29e0fbc",
            "a2d01c8925d549579f011fea42b8dfc8",
            "0a0f7d6621c94ef9841c1cc127bc7ef1",
            "3c054401b92749f2b7ebfd6a8a8c6ac0",
            "8ade23349ec147c98dc44c343b2930fa",
            "ccb297c85a774f00974fd4599bfce848",
            "593af1a295b5473b918a503d47eec429",
            "f385c66e8f7c4da9bbb858ba51a2193f",
            "42f46c6c5744424cae6d13377ba81675",
            "ea5e4978b46d4f139e482b8a9df30245",
            "01ebd9c063ec4755b19760f6e43b0e00",
            "fcb52bd4d9c442e682fa0995cd1e79a2",
            "eb381a5253a64a01800f327b1b3a11f2",
            "a48960033f0d45d9a91ebb9544c5ff72",
            "5940d78c5903411890cf724a5b9f840e",
            "b5a01b5356394443914df44d8b3f43ce",
            "70e7a6866ce54705a99ff3f881a3b135",
            "e2d04691c12d4ee9aed645e6766e9acc",
            "9608544770204878aa07c8278ccaf261",
            "5d75236148cb4f1c85c0331f79c1507a",
            "3d266fdbf4fa474fa30f8a5b2e5109a3",
            "161e45b028984383b66283f72707fa3c",
            "0935799a4295442a844911b7b505bbc8"
          ]
        },
        "id": "Uyrp7uZ2CwTX",
        "outputId": "13d67084-109f-42bc-86fa-104ca8c984ec"
      },
      "execution_count": null,
      "outputs": [
        {
          "output_type": "stream",
          "name": "stderr",
          "text": [
            "/usr/local/lib/python3.10/dist-packages/ydata_profiling/profile_report.py:363: UserWarning: Try running command: 'pip install --upgrade Pillow' to avoid ValueError\n",
            "  warnings.warn(\n"
          ]
        },
        {
          "output_type": "display_data",
          "data": {
            "text/plain": [
              "Summarize dataset:   0%|          | 0/5 [00:00<?, ?it/s]"
            ],
            "application/vnd.jupyter.widget-view+json": {
              "version_major": 2,
              "version_minor": 0,
              "model_id": "31643aa711ca4d80a1420239c153da3a"
            }
          },
          "metadata": {}
        },
        {
          "output_type": "display_data",
          "data": {
            "text/plain": [
              "Generate report structure:   0%|          | 0/1 [00:00<?, ?it/s]"
            ],
            "application/vnd.jupyter.widget-view+json": {
              "version_major": 2,
              "version_minor": 0,
              "model_id": "89ca7ade31fd430fa9958c1392548286"
            }
          },
          "metadata": {}
        },
        {
          "output_type": "display_data",
          "data": {
            "text/plain": [
              "Render HTML:   0%|          | 0/1 [00:00<?, ?it/s]"
            ],
            "application/vnd.jupyter.widget-view+json": {
              "version_major": 2,
              "version_minor": 0,
              "model_id": "a2d01c8925d549579f011fea42b8dfc8"
            }
          },
          "metadata": {}
        },
        {
          "output_type": "display_data",
          "data": {
            "text/plain": [
              "Export report to file:   0%|          | 0/1 [00:00<?, ?it/s]"
            ],
            "application/vnd.jupyter.widget-view+json": {
              "version_major": 2,
              "version_minor": 0,
              "model_id": "eb381a5253a64a01800f327b1b3a11f2"
            }
          },
          "metadata": {}
        }
      ]
    },
    {
      "cell_type": "code",
      "source": [
        "#Investigating the age distribution of BRFSS respondents\n",
        "brfssCore['_AGEG5YR'].value_counts()"
      ],
      "metadata": {
        "colab": {
          "base_uri": "https://localhost:8080/"
        },
        "id": "HlXRz_L2DtKJ",
        "outputId": "f2d3c7f8-0f6b-4fcb-df41-4530c78195c0"
      },
      "execution_count": null,
      "outputs": [
        {
          "output_type": "execute_result",
          "data": {
            "text/plain": [
              "_AGEG5YR\n",
              "9     11705\n",
              "10    11002\n",
              "7     10906\n",
              "8     10834\n",
              "5     10565\n",
              "4     10189\n",
              "6      9775\n",
              "1      9754\n",
              "3      9311\n",
              "11     8869\n",
              "2      8218\n",
              "12     6045\n",
              "13     5452\n",
              "Name: count, dtype: int64"
            ]
          },
          "metadata": {},
          "execution_count": 29
        }
      ]
    },
    {
      "cell_type": "code",
      "source": [
        "import matplotlib.pyplot as plt"
      ],
      "metadata": {
        "id": "DT7ObD2rFTmE"
      },
      "execution_count": null,
      "outputs": []
    },
    {
      "cell_type": "code",
      "source": [
        "#Creating a plot of age in 5-year categories\n",
        "brfssCore['_AGEG5YR'].value_counts(sort=False).plot(kind=\"bar\")\n",
        "labels = [\"18-24\", \"25-29\", \"30-34\", \"35-39\", \"40-44\", \"45-49\", \"50-54\", \"55-59\", \"60-64\",\n",
        "          \"64-69\", \"70-74\", \"75-79\", \"80+\"]\n",
        "x = [0, 1, 2, 3, 4, 5, 6, 7, 8, 9, 10, 11, 12]\n",
        "plt.xticks(x, labels)\n",
        "\n",
        "plt.xlabel('Age in 5-Year Categories')\n",
        "plt.ylabel('Number of observations')\n",
        "plt.savefig('Age.pdf')"
      ],
      "metadata": {
        "colab": {
          "base_uri": "https://localhost:8080/",
          "height": 496
        },
        "id": "eP74CIGlEFeC",
        "outputId": "336fd453-9605-4ffe-861b-6d28b8719049"
      },
      "execution_count": null,
      "outputs": [
        {
          "output_type": "display_data",
          "data": {
            "text/plain": [
              "<Figure size 640x480 with 1 Axes>"
            ],
            "image/png": "[encoded data removed]"
          },
          "metadata": {}
        }
      ]
    },
    {
      "cell_type": "code",
      "source": [
        "#Saving the working dataset as a .csv file\n",
        "brfssCore.to_csv('Initial Data.csv')"
      ],
      "metadata": {
        "id": "sKyfkPN-6fYp"
      },
      "execution_count": null,
      "outputs": []
    },
    {
      "cell_type": "code",
      "source": [
        "#'Pickling' the data frame\n",
        "brfssCore.to_pickle(r'brfss.pickle')"
      ],
      "metadata": {
        "id": "t5CnbmvZ6n_1"
      },
      "execution_count": null,
      "outputs": []
    }
  ]
}
