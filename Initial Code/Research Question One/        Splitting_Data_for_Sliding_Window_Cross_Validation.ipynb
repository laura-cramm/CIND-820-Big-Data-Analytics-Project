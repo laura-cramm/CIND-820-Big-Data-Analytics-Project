{
  "nbformat": 4,
  "nbformat_minor": 0,
  "metadata": {
    "colab": {
      "provenance": []
    },
    "kernelspec": {
      "name": "python3",
      "display_name": "Python 3"
    },
    "language_info": {
      "name": "python"
    }
  },
  "cells": [
    {
      "cell_type": "code",
      "execution_count": null,
      "metadata": {
        "id": "4iGRisY7lAu5"
      },
      "outputs": [],
      "source": [
        "import numpy as np\n",
        "import pandas as pd\n",
        "from sklearn.model_selection import TimeSeriesSplit"
      ]
    },
    {
      "cell_type": "code",
      "source": [
        "q1features_trainvalid = pd.read_pickle(\"q1features_trainvalid.pickle\")"
      ],
      "metadata": {
        "id": "gMCfYhR9lINf"
      },
      "execution_count": null,
      "outputs": []
    },
    {
      "cell_type": "code",
      "source": [
        "#Sorting data by participant sequence number (by date) :\n",
        "q1features_trainvalid = q1features_trainvalid.sort_values(by = [\"SEQNO\"], ascending=False)"
      ],
      "metadata": {
        "id": "CNEciNSwlMsa"
      },
      "execution_count": null,
      "outputs": []
    },
    {
      "cell_type": "markdown",
      "source": [
        "Overfitting occurs when a machine learning algorithm performs poorly on data that it was not trained on. Cross-validation can help prevent overfitting.\n",
        "\n",
        "All BRFSS surveys were not conducted on the same date; there is a time series aspect to the dataset. Sliding window validation was therefore conducted, not the standard k-fold cross-validation methodology. This sliding window validation method ensures that the validation dataset always occurs chronologically after the training dataset.; the model cannot 'see the future' (which would artificially improve model performance)."
      ],
      "metadata": {
        "id": "qOiw7yCp5nMo"
      }
    },
    {
      "cell_type": "code",
      "source": [
        "#Splitting data for sliding window cross-validation\n",
        "tscv = TimeSeriesSplit(n_splits=5)\n",
        "\n",
        "tscv.split(q1features_trainvalid)"
      ],
      "metadata": {
        "id": "UzYXgp3olOLT"
      },
      "execution_count": null,
      "outputs": []
    },
    {
      "cell_type": "code",
      "source": [
        "q1_train_index = []\n",
        "q1_valid_index = []\n",
        "\n",
        "#Iterating over tscv object to obtain indices that give train/validate splits\n",
        "for train_index, valid_index in tscv.split(q1features_trainvalid):\n",
        "  q1_train_index.append(train_index)\n",
        "  q1_valid_index.append(valid_index)"
      ],
      "metadata": {
        "id": "FcobTrBflYV-"
      },
      "execution_count": null,
      "outputs": []
    },
    {
      "cell_type": "code",
      "source": [
        "#Using these indices to split data into five training and five validation\n",
        "#sets\n",
        "q1features_train_1 = q1features_trainvalid.iloc[q1_train_index[0], :]\n",
        "q1features_valid_1 = q1features_trainvalid.iloc[q1_valid_index[0], :]\n",
        "\n",
        "q1features_train_2 = q1features_trainvalid.iloc[q1_train_index[1], :]\n",
        "q1features_valid_2 = q1features_trainvalid.iloc[q1_valid_index[1], :]\n",
        "\n",
        "q1features_train_3 = q1features_trainvalid.iloc[q1_train_index[2], :]\n",
        "q1features_valid_3 = q1features_trainvalid.iloc[q1_valid_index[2], :]\n",
        "\n",
        "q1features_train_4 = q1features_trainvalid.iloc[q1_train_index[3], :]\n",
        "q1features_valid_4 = q1features_trainvalid.iloc[q1_valid_index[3], :]\n",
        "\n",
        "q1features_train_5 = q1features_trainvalid.iloc[q1_train_index[4], :]\n",
        "q1features_valid_5 = q1features_trainvalid.iloc[q1_valid_index[4], :]"
      ],
      "metadata": {
        "id": "hHwJRBn2lokw"
      },
      "execution_count": null,
      "outputs": []
    },
    {
      "cell_type": "code",
      "source": [
        "#Also splitting the labels for the target variable\n",
        "q1target_train_1 = q1target_trainvalid.iloc[q1_train_index[0]]\n",
        "q1target_valid_1 = q1target_trainvalid.iloc[q1_valid_index[0]]\n",
        "\n",
        "q1target_train_2 = q1target_trainvalid.iloc[q1_train_index[1]]\n",
        "q1target_valid_2 = q1target_trainvalid.iloc[q1_valid_index[1]]\n",
        "\n",
        "q1target_train_3 = q1target_trainvalid.iloc[q1_train_index[2]]\n",
        "q1target_valid_3 = q1target_trainvalid.iloc[q1_valid_index[2]]\n",
        "\n",
        "q1target_train_4 = q1target_trainvalid.iloc[q1_train_index[3]]\n",
        "q1target_valid_4 = q1target_trainvalid.iloc[q1_valid_index[3]]\n",
        "\n",
        "q1target_train_5 = q1target_trainvalid.iloc[q1_train_index[4]]\n",
        "q1target_valid_5 = q1target_trainvalid.iloc[q1_valid_index[4]]"
      ],
      "metadata": {
        "colab": {
          "base_uri": "https://localhost:8080/",
          "height": 214
        },
        "id": "H3RtV3VXlycg",
        "outputId": "41b91eb6-d748-412f-cc64-3d09b6cfa397"
      },
      "execution_count": null,
      "outputs": [
        {
          "output_type": "error",
          "ename": "NameError",
          "evalue": "name 'q1target_trainvalid' is not defined",
          "traceback": [
            "\u001b[0;31m---------------------------------------------------------------------------\u001b[0m",
            "\u001b[0;31mNameError\u001b[0m                                 Traceback (most recent call last)",
            "\u001b[0;32m<ipython-input-1-f0479b0e07f9>\u001b[0m in \u001b[0;36m<cell line: 2>\u001b[0;34m()\u001b[0m\n\u001b[1;32m      1\u001b[0m \u001b[0;31m#Also splitting the labels for the target variable\u001b[0m\u001b[0;34m\u001b[0m\u001b[0;34m\u001b[0m\u001b[0m\n\u001b[0;32m----> 2\u001b[0;31m \u001b[0mq1target_train_1\u001b[0m \u001b[0;34m=\u001b[0m \u001b[0mq1target_trainvalid\u001b[0m\u001b[0;34m.\u001b[0m\u001b[0miloc\u001b[0m\u001b[0;34m[\u001b[0m\u001b[0mq1_train_index\u001b[0m\u001b[0;34m[\u001b[0m\u001b[0;36m0\u001b[0m\u001b[0;34m]\u001b[0m\u001b[0;34m]\u001b[0m\u001b[0;34m\u001b[0m\u001b[0;34m\u001b[0m\u001b[0m\n\u001b[0m\u001b[1;32m      3\u001b[0m \u001b[0mq1target_valid_1\u001b[0m \u001b[0;34m=\u001b[0m \u001b[0mq1target_trainvalid\u001b[0m\u001b[0;34m.\u001b[0m\u001b[0miloc\u001b[0m\u001b[0;34m[\u001b[0m\u001b[0mq1_valid_index\u001b[0m\u001b[0;34m[\u001b[0m\u001b[0;36m0\u001b[0m\u001b[0;34m]\u001b[0m\u001b[0;34m]\u001b[0m\u001b[0;34m\u001b[0m\u001b[0;34m\u001b[0m\u001b[0m\n\u001b[1;32m      4\u001b[0m \u001b[0;34m\u001b[0m\u001b[0m\n\u001b[1;32m      5\u001b[0m \u001b[0mq1target_train_2\u001b[0m \u001b[0;34m=\u001b[0m \u001b[0mq1target_trainvalid\u001b[0m\u001b[0;34m.\u001b[0m\u001b[0miloc\u001b[0m\u001b[0;34m[\u001b[0m\u001b[0mq1_train_index\u001b[0m\u001b[0;34m[\u001b[0m\u001b[0;36m1\u001b[0m\u001b[0;34m]\u001b[0m\u001b[0;34m]\u001b[0m\u001b[0;34m\u001b[0m\u001b[0;34m\u001b[0m\u001b[0m\n",
            "\u001b[0;31mNameError\u001b[0m: name 'q1target_trainvalid' is not defined"
          ]
        }
      ]
    },
    {
      "cell_type": "code",
      "source": [
        "q1features_train_1.to_pickle('q1features_train_1.pickle')\n",
        "q1features_train_2.to_pickle('q1features_train_2.pickle')\n",
        "q1features_train_3.to_pickle('q1features_train_3.pickle')\n",
        "q1features_train_4.to_pickle('q1features_train_4.pickle')\n",
        "q1features_train_5.to_pickle('q1features_train_5.pickle')"
      ],
      "metadata": {
        "id": "0w1aXd_Dl--a"
      },
      "execution_count": null,
      "outputs": []
    },
    {
      "cell_type": "code",
      "source": [
        "q1features_valid_1.to_pickle('q1features_valid_1.pickle')\n",
        "q1features_valid_2.to_pickle('q1features_valid_2.pickle')\n",
        "q1features_valid_3.to_pickle('q1features_valid_3.pickle')\n",
        "q1features_valid_4.to_pickle('q1features_valid_4.pickle')\n",
        "q1features_valid_5.to_pickle('q1features_valid_5.pickle')"
      ],
      "metadata": {
        "id": "Ztnkq1_-mPqE"
      },
      "execution_count": null,
      "outputs": []
    },
    {
      "cell_type": "code",
      "source": [
        "q1target_train_1.to_pickle('q1target_train_1.pickle')\n",
        "q1target_train_2.to_pickle('q1target_train_2.pickle')\n",
        "q1target_train_3.to_pickle('q1target_train_3.pickle')\n",
        "q1target_train_4.to_pickle('q1target_train_4.pickle')\n",
        "q1target_train_5.to_pickle('q1target_train_5.pickle')"
      ],
      "metadata": {
        "id": "m_xZkoCRmd6l"
      },
      "execution_count": null,
      "outputs": []
    },
    {
      "cell_type": "code",
      "source": [
        "q1target_valid_1.to_pickle('q1target_valid_1.pickle')\n",
        "q1target_valid_2.to_pickle('q1target_valid_2.pickle')\n",
        "q1target_valid_3.to_pickle('q1target_valid_3.pickle')\n",
        "q1target_valid_4.to_pickle('q1target_valid_4.pickle')\n",
        "q1target_valid_5.to_pickle('q1target_valid_5.pickle')"
      ],
      "metadata": {
        "id": "FqWf4FvumeSw"
      },
      "execution_count": null,
      "outputs": []
    }
  ]
}
