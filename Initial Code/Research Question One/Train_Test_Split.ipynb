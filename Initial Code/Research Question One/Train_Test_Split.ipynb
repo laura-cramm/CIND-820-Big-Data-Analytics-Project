{
  "nbformat": 4,
  "nbformat_minor": 0,
  "metadata": {
    "colab": {
      "provenance": [],
      "authorship_tag": "ABX9TyO9An7yD3jlm8lAcm9Q12q/",
      "include_colab_link": true
    },
    "kernelspec": {
      "name": "python3",
      "display_name": "Python 3"
    },
    "language_info": {
      "name": "python"
    }
  },
  "cells": [
    {
      "cell_type": "markdown",
      "metadata": {
        "id": "view-in-github",
        "colab_type": "text"
      },
      "source": [
        "<a href=\"https://colab.research.google.com/github/laura-cramm/CIND-820-Big-Data-Analytics-Project/blob/main/Train_%26_Validate_Test_Split.ipynb\" target=\"_parent\"><img src=\"https://colab.research.google.com/assets/colab-badge.svg\" alt=\"Open In Colab\"/></a>"
      ]
    },
    {
      "cell_type": "code",
      "execution_count": null,
      "metadata": {
        "id": "vw8lIHObjCsP"
      },
      "outputs": [],
      "source": [
        "import numpy as np\n",
        "import pandas as pd"
      ]
    },
    {
      "cell_type": "code",
      "source": [
        "question1 = pd.read_pickle(\"brfss.pickle\")"
      ],
      "metadata": {
        "id": "EUujO02BjT52"
      },
      "execution_count": null,
      "outputs": []
    },
    {
      "cell_type": "code",
      "source": [
        "#Removing rows that are not labeled\n",
        "question1 = question1.loc[(question1[\"COVIDSMP\"].isna() == False), :]"
      ],
      "metadata": {
        "id": "RArPC-XBjcl1"
      },
      "execution_count": null,
      "outputs": []
    },
    {
      "cell_type": "code",
      "source": [
        "#Checking that unlabeled rows were succesfully removed\n",
        "question1['COVIDSMP'].isna().sum()"
      ],
      "metadata": {
        "id": "INQpB-v1jeKs"
      },
      "execution_count": null,
      "outputs": []
    },
    {
      "cell_type": "code",
      "source": [
        "#Training/Validation & Test Split\n",
        "from sklearn.model_selection import train_test_split\n",
        "\n",
        "#Make one dataset without outcome, one with only outcome\n",
        "q1features = question1.loc[:,  question1.columns != 'COVIDSMP']\n",
        "q1target = question1['COVIDSMP']\n",
        "\n",
        "\n",
        "\n",
        "q1features_trainvalid, q1features_test, q1target_trainvalid, q1target_test = train_test_split (q1features, q1target, random_state = 123,\n",
        "                                test_size = 0.20, shuffle = True)"
      ],
      "metadata": {
        "id": "VWtUXQLpjiSu"
      },
      "execution_count": null,
      "outputs": []
    },
    {
      "cell_type": "code",
      "source": [
        "q1features_trainvalid.to_pickle('q1features_trainvalid.pickle')\n",
        "q1features_test.to_pickle('q1features_test.pickle')\n",
        "q1target_trainvalid.to_pickle('q1target_trainvalid.pickle')\n",
        "q1target_test.to_pickle('q1target_test.pickle')"
      ],
      "metadata": {
        "id": "N2VIgL-8jubJ"
      },
      "execution_count": null,
      "outputs": []
    }
  ]
}
