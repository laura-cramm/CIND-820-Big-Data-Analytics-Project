{
  "nbformat": 4,
  "nbformat_minor": 0,
  "metadata": {
    "colab": {
      "provenance": []
    },
    "kernelspec": {
      "name": "python3",
      "display_name": "Python 3"
    },
    "language_info": {
      "name": "python"
    }
  },
  "cells": [
    {
      "cell_type": "code",
      "execution_count": null,
      "metadata": {
        "id": "X_xt97SpkYrB"
      },
      "outputs": [],
      "source": [
        "import numpy as np\n",
        "import pandas as pd"
      ]
    },
    {
      "cell_type": "code",
      "source": [
        "q1features_trainvalid = pd.read_pickle(\"q1features_trainvalid.pickle\")"
      ],
      "metadata": {
        "id": "8pBM5XSNks_Z"
      },
      "execution_count": null,
      "outputs": []
    },
    {
      "cell_type": "code",
      "source": [
        "#Removing zero variance attributes\n",
        "q1features_trainvalid = q1features_trainvalid.loc[:, q1features_trainvalid.nunique(axis=0) != 1]"
      ],
      "metadata": {
        "id": "OZsPjiI0kvo_"
      },
      "execution_count": null,
      "outputs": []
    },
    {
      "cell_type": "code",
      "source": [
        "#Removing attributes with more than 10% missing data\n",
        "for col in q1features_trainvalid.columns.tolist():\n",
        "  if q1features_trainvalid[col].isna().sum()/len(q1features_trainvalid[col]) > 0.10:\n",
        "    q1features_trainvalid = q1features_trainvalid.drop([col], axis=1)"
      ],
      "metadata": {
        "id": "Bz_C70g6kxVl"
      },
      "execution_count": null,
      "outputs": []
    },
    {
      "cell_type": "code",
      "source": [
        "q1features_trainvalid.to_pickle('q1features_trainvalid.pickle')"
      ],
      "metadata": {
        "id": "QuLAMuDikzdU"
      },
      "execution_count": null,
      "outputs": []
    }
  ]
}