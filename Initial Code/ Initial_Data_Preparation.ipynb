{
  "nbformat": 4,
  "nbformat_minor": 0,
  "metadata": {
    "colab": {
      "provenance": []
    },
    "kernelspec": {
      "name": "python3",
      "display_name": "Python 3"
    },
    "language_info": {
      "name": "python"
    }
  },
  "cells": [
    {
      "cell_type": "code",
      "execution_count": null,
      "metadata": {
        "id": "c3qJZ2clho-U"
      },
      "outputs": [],
      "source": [
        "import numpy as np\n",
        "import pandas as pd"
      ]
    },
    {
      "cell_type": "code",
      "source": [
        "#Reading the csv file containing the standardized core BRFSS data and saving\n",
        "#it to a pandas data frame\n",
        "brfssCore = pd.read_csv(\"/content/CoreSurvey.csv\")"
      ],
      "metadata": {
        "id": "FqPbMmwRhxTb"
      },
      "execution_count": null,
      "outputs": []
    },
    {
      "cell_type": "code",
      "source": [
        "#The COVIDPOS variable represents the answer to the question: \"Has a doctor,\n",
        "#nurse, or other health professional ever told you that you tested positive for COVID 19\"\n",
        "#A value of 1 represents a \"Yes\", 2 represents a \"No\", and 3 represents \"Tested positive\n",
        "#using home test without health professional\". All other values indicate missing data.\n",
        "\n",
        "#Converting the COVIDPOS variable to a Boolean, where 1 and 3 are equivalent to 'True'\n",
        "#and 2 is equivalent to 'False'\n",
        "brfssCore['COVIDPOS'] = np.select([np.logical_or(brfssCore['COVIDPOS'] == 1, brfssCore['COVIDPOS'] == 3), (brfssCore['COVIDPOS'] == 2)],\n",
        "                                  [True, False], default=None)"
      ],
      "metadata": {
        "id": "kKA4KqEohzXm"
      },
      "execution_count": null,
      "outputs": []
    },
    {
      "cell_type": "code",
      "source": [
        "#Removing all individuals who never tested positive for COIVD-19 (or had a missing\n",
        "#value for the COVIDPOS variable) from the data frame.\n",
        "brfssCore = brfssCore[(brfssCore[\"COVIDPOS\"] == True)]\n",
        "brfssCore['COVIDPOS'] = brfssCore['COVIDPOS'].astype('category')"
      ],
      "metadata": {
        "id": "K2mnkH66h1R7"
      },
      "execution_count": null,
      "outputs": []
    },
    {
      "cell_type": "code",
      "source": [
        "#The MENTHLTH variable represents the answer to the question:\n",
        "#\"Now thinking about your mental health, which includes stress, depression, and problems with emotions,\n",
        "#for how many days during the past 30 days was your mental health not good?\"\n",
        "#This key outcome variable will be dichotomized, with 14 or more days\n",
        "#indicating frequent mental distress.\n",
        "brfssCore['MENTHLTH'] = np.select([np.logical_or(brfssCore['MENTHLTH'] == 88, brfssCore['MENTHLTH']<14), np.logical_or(brfssCore['MENTHLTH'] == 77, brfssCore['MENTHLTH'] == 99)],\n",
        "                                  [False, None], default=True)\n",
        "brfssCore['MENTHLTH'] = brfssCore['MENTHLTH'].astype('category')"
      ],
      "metadata": {
        "id": "0wucjt8fh2Wh"
      },
      "execution_count": null,
      "outputs": []
    },
    {
      "cell_type": "code",
      "source": [
        "#Removing the underscore from the _STATE attribute name.\n",
        "brfssCore.rename(columns={'_STATE': 'STATE'}, inplace=True)\n",
        "\n",
        "#Removing the underscore from the _BMI5CAT attribute name.\n",
        "brfssCore.rename(columns={'_BMI5CAT': 'BMI5CAT'}, inplace=True)\n",
        "\n",
        "#Removing the underscore from the _SMOKER3 attribute name\n",
        "brfssCore.rename(columns={'_SMOKER3': 'SMOKER3'}, inplace=True)\n",
        "\n",
        "#Sorting the attribute names alphabetically.\n",
        "brfssCore = brfssCore.sort_index(axis=1)\n",
        "\n",
        "#Attributes that start with an underscore were calculated by the CDC staff using other attributes.\n",
        "#Removing these attributes\n",
        "brfssCore = brfssCore.drop(brfssCore.loc[:, '_AIDTST4':'_YRSSMOK'].columns, axis=1)\n",
        "brfssCore = brfssCore.drop(['ALCDAY4', 'WEIGHT2', 'HEIGHT3', 'HTIN4'], axis=1)"
      ],
      "metadata": {
        "id": "L7mF2-5Ch3br"
      },
      "execution_count": null,
      "outputs": []
    },
    {
      "cell_type": "code",
      "source": [
        "#Converting dichotomous categorical variables to Booleans\n",
        "#1 is YES, 2 is NO, otherwise MISSING\n",
        "for col in ['CTELENM1', 'PVTRESD1', 'CELPHON1', 'LADULT1', 'CTELNUM1', 'PVTRESD3',\n",
        "            'CSTATE1', 'RESPSLCT', 'LANDLINE', 'MEDCOST1', 'EXERANY2', 'CVDINFR4',\n",
        "            'CVDCRHD4', 'CVDSTRK3', 'ASTHMA3', 'ASTHNOW', 'CHCSCNC1', 'CHCOCNC1',\n",
        "            'CHCCOPD3', 'ADDEPEV3', 'CHCKDNY2', 'HAVARTH4', 'NUMHHOL4', 'VETERAN3',\n",
        "            'PREGNANT', 'DEAF', 'BLIND', 'DECIDE', 'DIFFWALK', 'DIFFDRES',\n",
        "            'DIFFALON', 'HADMAM', 'CERVSCRN', 'CRVCLPAP', 'CRVCLHPV', 'HADHYST2',\n",
        "            'HADSIGM4', 'COLNCNCR', 'VIRCOLO1', 'SMALSTOL', 'STOOLDN2', 'BLDSTFIT',\n",
        "            'SMOKE100', 'LCSCTSC1', 'LCSSCNCR', 'FLUSHOT7', 'PNEUVAC4', 'HIVTST7',\n",
        "            'HIVRISK5', 'COVIDSMP', 'INSULIN1', 'FEETSORE', 'SHINGLE2', 'COVIDVA1',\n",
        "            'COPDCOGH', 'COPDFLEM', 'COPDBRTH', 'COPDBTST', 'CSRVSUM', 'CSRVRTRN',\n",
        "            'CSRVINST', 'CSRVINSR', 'CSRVDEIN', 'CSRVCLIN', 'CSRVPAIN', 'PSATEST1',\n",
        "            'CIMEMLOS', 'CDDISCUS', 'CRGVALZD', 'CRGVPER1', 'CRGVHOU1', 'CRGVEXPT',\n",
        "            'ACEDEPRS', 'ACEDRINK', 'ACEDRUGS', 'ACEPRISN', 'ACEDIVRC', 'SDHEMPLY',\n",
        "            'FOODSTMP', 'SDHBILLS', 'SDHUTILS', 'SDHTRNSP', 'MARJSMOK', 'MARJEAT',\n",
        "            'MARJVAPE', 'MARJDAB', 'MARJOTHR', 'STOPSMK2', 'MENTCIGS', 'MENTECIG',\n",
        "            'HEATTBCO', 'ASBIALCH', 'ASBIDRNK', 'ASBIBING', 'ASBIADVC', 'ASBIRDUC',\n",
        "            'FIREARM5', 'GUNLOAD', 'LOADULK2', 'CASTHDX2', 'CASTHNO2', 'HADSEX',\n",
        "            'PFPPRVN4', 'RRPHYSM2', 'HPVADVC4', 'DRNKANY6', 'CAREGIV1']:\n",
        "  brfssCore[col] = np.select([(brfssCore[col] == 1), (brfssCore[col] == 2)],\n",
        "                                  [True, False], default=None)\n",
        "  brfssCore[col] = brfssCore[col].astype('category')\n",
        "\n",
        "#Sex is coded as a dichtomous variable, where 1=Male and 2=Female.\n",
        "#Converting to a boolean variable where Female=True and Male=False\n",
        "brfssCore['SEXVAR'] = np.select([(brfssCore['SEXVAR'] == 2), (brfssCore['SEXVAR'] == 1)],\n",
        "                                  [True, False], default=None)\n",
        "brfssCore['SEXVAR'] = brfssCore['SEXVAR'].astype('category')"
      ],
      "metadata": {
        "id": "KU7MZsvXh4ys"
      },
      "execution_count": null,
      "outputs": []
    },
    {
      "cell_type": "code",
      "source": [
        "#Converting dichotomous categorical variables to Booleans. In this case,\n",
        "#the variables are either True or have a missing value.\n",
        "#1 is YES, Otherwise is MISSING\n",
        "for col in ['COLGHOUS', 'STATERE1', 'SAFETIME', 'CELLFON5', 'CADULT1','CCLGHOUS']:\n",
        "  brfssCore[col] = np.where((brfssCore[col] == 1), True, None)\n",
        "  brfssCore[col] = brfssCore[col].astype('category')"
      ],
      "metadata": {
        "id": "DzlAQ8VHh6DS"
      },
      "execution_count": null,
      "outputs": []
    },
    {
      "cell_type": "code",
      "source": [
        "#The following variables are numeric, but have multiple values that indicate\n",
        "#a missing observation. For example, the 'HHADULT' variable represents the\n",
        "#number of adults in the household. A value of 88, 77, or 99 indicates missing data.\n",
        "\n",
        "#Altering numeric variables so that only a value of 'None' indicates missing data.\n",
        "brfssCore['HHADULT'] = np.where(np.logical_or(brfssCore['HHADULT'] == 77, brfssCore['HHADULT'] == 88, brfssCore['HHADULT'] == 99), None, brfssCore['HHADULT'])\n",
        "brfssCore['HHADULT'] = brfssCore['HHADULT'].astype('Int64')\n",
        "\n",
        "for col in ['POORHLTH', 'AVEDRNK3', 'DRNK3GE5', 'COPDSMOK', 'MARIJAN1', 'PHYSHLTH']:\n",
        "  brfssCore[col] = np.select([(brfssCore[col] == 88), np.logical_or(brfssCore[col] == 77, brfssCore[col] == 99)],\n",
        "                                  [0, None], default=brfssCore[col])\n",
        "  brfssCore[col] = brfssCore[col].astype('Int64')\n",
        "\n",
        "\n",
        "for col in ['SLEPTIM1', 'MAXDRNKS']:\n",
        "  brfssCore[col] = np.where(np.logical_or(brfssCore[col] == 77, brfssCore[col] == 99), None, brfssCore[col])\n",
        "  brfssCore[col] = brfssCore[col].astype('Int64')\n",
        "\n",
        "brfssCore['CHILDREN'] = np.select([(brfssCore['CHILDREN'] == 88), (brfssCore['CHILDREN'] == 99)],\n",
        "                                  [0, None], default=brfssCore['CHILDREN'])\n",
        "brfssCore['CHILDREN'] = brfssCore['CHILDREN'].astype('Int64')\n",
        "\n",
        "brfssCore['LCSFIRST'] = np.where(np.logical_or(brfssCore['LCSFIRST'] == 777, brfssCore['LCSFIRST'] == 888, brfssCore['LCSFIRST'] == 999), None, brfssCore['LCSFIRST'])\n",
        "brfssCore['LCSFIRST'] = brfssCore['LCSFIRST'].astype('Int64')\n",
        "\n",
        "for col in ['LCSLAST', 'LCSNUMCG']:\n",
        "  brfssCore[col] = np.where(np.logical_or(brfssCore[col] == 777, brfssCore[col] == 999), None, brfssCore[col])\n",
        "  brfssCore[col] = brfssCore[col].astype('Int64')\n",
        "\n",
        "\n",
        "brfssCore['CHKHEMO3'] = np.select([np.logical_or(brfssCore['CHKHEMO3'] == 88, brfssCore['CHKHEMO3'] == 98), np.logical_or(brfssCore['CHKHEMO3'] == 77, brfssCore['CHKHEMO3'] == 99)],\n",
        "                                  [0, None], default=brfssCore['CHKHEMO3'])\n",
        "brfssCore['CHKHEMO3'] = brfssCore['CHKHEMO3'].astype('Int64')\n",
        "\n",
        "brfssCore['CNCRAGE'] = np.where(np.logical_or(brfssCore['CNCRAGE'] == 98, brfssCore['CNCRAGE'] == 99), None, brfssCore['CNCRAGE'])\n",
        "brfssCore['CNCRAGE'] = brfssCore['CNCRAGE'].astype('Int64')\n",
        "\n",
        "brfssCore['DROCDY4_'] = np.where((brfssCore['DROCDY4_'] == 900), None, brfssCore['DROCDY4_'])\n",
        "brfssCore['DROCDY4_'] = brfssCore['DROCDY4_'].astype('Int64')\n"
      ],
      "metadata": {
        "id": "GoAn8pi3h7wX"
      },
      "execution_count": null,
      "outputs": []
    },
    {
      "cell_type": "code",
      "source": [
        "#The following variables are ordinal, but also have multiple values that indicate\n",
        "#missing data. Altering these variables so that only a value of 'None' indicates missing data.\n",
        "\n",
        "for col in ['GENHLTH','COLNTES1', 'SIGMTES1', 'LASTSIG4', 'VCLNTES2', 'STOLTEST', 'SDNATES1',\n",
        "            'SMOKDAY2', 'USENOW3',  'ECIGNOW2',  'LCSCTWHN',  'TETANUS1', 'PERSDOC3',\n",
        "            'DIABETE4', 'HOWLONG', 'CRVCLCNC', 'PREDIAB2', 'COVACGET',  'COVIDNU1',\n",
        "            'COVIDINT', 'CNCRDIFF', 'CSRVCTL2', 'PSATIME1', 'CDHOUSE',   'CDASSIST',\n",
        "            'CDHELP',   'CDSOCIAL', 'CRGVLNG1',  'CRGVHRS1', 'ACEPUNCH', 'ACEHURT1',\n",
        "            'ACESWEAR',   'ACETOUCH',  'ACETTHEM', 'ACEHVSEX',  'ACEADSAF',   'ACEADNED',\n",
        "            'LSATISFY',  'EMTSUPRT',   'SDHISOLT',    'SDHFOOD1',   'SDHSTRE1',   'RRCOGNT2',\n",
        "            'RRTREAT',  'RRATWRK2']:\n",
        "            brfssCore[col] = np.where(np.logical_or(brfssCore[col] == 7, brfssCore[col] == 9), None, brfssCore[col])\n",
        "\n",
        "\n",
        "\n",
        "brfssCore['CHECKUP1'] = np.where(np.logical_or(brfssCore['CHECKUP1'] == 7, brfssCore['CHECKUP1'] == 8, brfssCore['CHECKUP1'] == 9), None, brfssCore['CHECKUP1'])\n",
        "\n",
        "A = np.logical_or(brfssCore['LASTDEN4'] == 5, brfssCore['LASTDEN4'] == 7)\n",
        "B = np.logical_or(brfssCore['LASTDEN4'] == 8, brfssCore['LASTDEN4'] == 9)\n",
        "brfssCore['LASTDEN4'] = np.where(np.logical_or(A, B), None, brfssCore['LASTDEN4'])\n",
        "\n",
        "\n",
        "for col in ['RMVTETH4', 'PDIABTS1', 'EYEEXAM1', 'DIABEYE1', 'DIABEDU1' ]:\n",
        "  brfssCore[col] = np.select([(brfssCore[col] == 8), np.logical_or(brfssCore[col] == 7, brfssCore[col] == 9)],\n",
        "                                  [0, None], default=brfssCore[col])\n",
        "\n",
        "for col in ['SMOKER3', 'EDUCA']:\n",
        "  brfssCore[col] = np.where((brfssCore[col] == 9), None, brfssCore[col])\n",
        "\n",
        "for col in ['INCOME3', 'HPVADSHT', 'LASTSMK2']:\n",
        "  brfssCore[col] = np.where(np.logical_or(brfssCore[col] == 77, brfssCore[col] == 99), None, brfssCore[col])\n",
        "\n",
        "brfssCore['RRHCARE4'] = np.where(np.logical_or(brfssCore['RRHCARE4'] == 6, brfssCore['RRHCARE4'] == 7, brfssCore['RRHCARE4'] == 9), None, brfssCore['RRHCARE4'])\n",
        "\n",
        "\n",
        "brfssCore['_AGEG5YR'] = np.where((brfssCore['_AGEG5YR'] == 14), None, brfssCore['_AGEG5YR'])\n",
        "\n",
        "brfssCore['_AGE65YR'] = np.where((brfssCore['_AGE65YR'] == 3), None, brfssCore['_AGE65YR'])\n",
        "\n",
        "\n",
        "#Using the .astype() function to give ordinal variables the 'category' data type\n",
        "for col in ['GENHLTH','COLNTES1', 'SIGMTES1', 'LASTSIG4', 'VCLNTES2', 'STOLTEST', 'SDNATES1',\n",
        "            'SMOKDAY2', 'USENOW3',  'ECIGNOW2',  'LCSCTWHN',  'TETANUS1', 'PERSDOC3',\n",
        "            'DIABETE4', 'HOWLONG', 'CRVCLCNC', 'PREDIAB2', 'COVACGET',  'COVIDNU1',\n",
        "            'COVIDINT', 'CNCRDIFF', 'CSRVCTL2', 'PSATIME1', 'CDHOUSE',   'CDASSIST',\n",
        "            'CDHELP',   'CDSOCIAL', 'CRGVLNG1',  'CRGVHRS1', 'ACEPUNCH', 'ACEHURT1',\n",
        "            'ACESWEAR',   'ACETOUCH',  'ACETTHEM', 'ACEHVSEX',  'ACEADSAF',   'ACEADNED',\n",
        "            'LSATISFY',  'EMTSUPRT',   'SDHISOLT',    'SDHFOOD1',   'SDHSTRE1',   'RRCOGNT2',\n",
        "            'RRTREAT',  'RRATWRK2', 'CHECKUP1', 'LASTDEN4', 'RMVTETH4', 'PDIABTS1', 'EYEEXAM1', 'DIABEYE1', 'DIABEDU1',\n",
        "            'EDUCA', 'INCOME3', 'HPVADSHT', 'LASTSMK2', 'RRHCARE4', '_AGEG5YR', '_AGE65YR',  'BMI5CAT', 'SMOKER3' ]:\n",
        "    brfssCore[col] = brfssCore[col].astype('category')"
      ],
      "metadata": {
        "id": "Nf0XBKPzh7xP"
      },
      "execution_count": null,
      "outputs": []
    },
    {
      "cell_type": "code",
      "source": [
        "#These variables are nominal; dummy variables will be created using\n",
        "#one-hot encoding.\n",
        "for col in ['STATE', 'FMONTH','IMONTH','SEXVAR', 'QSTVER','QSTLANG','MSCODE']:\n",
        "  brfssCore = pd.concat([brfssCore, pd.get_dummies(brfssCore[col], prefix=col, drop_first=True, dtype='category')], axis=1)\n",
        "  brfssCore = brfssCore.drop([col], axis=1)\n",
        "\n",
        "#First altering these variables so that only a value of 'None' indicates missing data.\n",
        "brfssCore['IDAY'] = np.where((brfssCore['IDAY'] == 0), None, brfssCore['IDAY'])\n",
        "\n",
        "brfssCore['LANDSEX1'] = np.where(np.logical_or(brfssCore['LANDSEX1'] == 0, brfssCore['LANDSEX1'] == 7, brfssCore['LANDSEX1'] == 9), None, brfssCore['LANDSEX1'])\n",
        "\n",
        "for col in ['CELLSEX1', 'RENTHOM1', 'COLNSIGM', 'DIABTYPE', 'CSRVTRT3',\n",
        "            'PCPSARS2', 'PSASUGST', 'PCSTALK1', 'RCSXBRTH', 'RCSRLTN2','BIRTHSEX',\n",
        "            'SOMALE', 'SOFEMALE', 'TRNSGNDR']:\n",
        "            brfssCore[col] = np.where(np.logical_or(brfssCore[col] == 7, brfssCore[col] == 9), None, brfssCore[col])\n",
        "\n",
        "brfssCore['PRIMINSR'] = np.select([(brfssCore['PRIMINSR'] == 88), np.logical_or(brfssCore['PRIMINSR'] == 77, brfssCore['PRIMINSR'] == 99)],\n",
        "                                  [0, None], default=brfssCore['PRIMINSR'])\n",
        "\n",
        "\n",
        "for col in ['MARITAL', 'EMPLOY1', 'RCSGEND1']:\n",
        "  brfssCore[col] = np.where((brfssCore[col] == 9), None, brfssCore[col])\n",
        "\n",
        "\n",
        "for col in ['COVIDPRM','IMFVPLA3','CNCRTYP2','CSRVDOC1', 'CRGVREL4',\n",
        "            'CRGVPRB3', 'TYPCNTR9','BRTHCNT4','WHEREGET', 'NOBCUSE8',\n",
        "            'BCPREFER','RRCLASS3']:\n",
        "            brfssCore[col] = np.where(np.logical_or(brfssCore[col] == 77, brfssCore[col] == 99), None, brfssCore[col])\n",
        "\n",
        "#Generating dummy variables\n",
        "for col in ['IDAY', 'LANDSEX1', 'CELLSEX1', 'RENTHOM1', 'COLNSIGM', 'DIABTYPE', 'CSRVTRT3',\n",
        "            'PCPSARS2', 'PSASUGST', 'PCSTALK1', 'RCSXBRTH', 'RCSRLTN2','BIRTHSEX',\n",
        "            'SOMALE', 'SOFEMALE', 'TRNSGNDR', 'PRIMINSR',  'MARITAL', 'EMPLOY1', 'RCSGEND1', 'COVIDPRM','IMFVPLA3','CNCRTYP2','CSRVDOC1', 'CRGVREL4',\n",
        "            'CRGVPRB3', 'TYPCNTR9','BRTHCNT4','WHEREGET', 'NOBCUSE8',\n",
        "            'BCPREFER','RRCLASS3']:\n",
        "  brfssCore = pd.concat([brfssCore, pd.get_dummies(brfssCore[col], prefix=col, drop_first=True, dtype='category')], axis=1)\n",
        "  brfssCore = brfssCore.drop([col], axis=1)\n"
      ],
      "metadata": {
        "id": "7_Y76ApHh-eI"
      },
      "execution_count": null,
      "outputs": []
    },
    {
      "cell_type": "code",
      "source": [
        "from datetime import datetime"
      ],
      "metadata": {
        "id": "KbH97knNh_pA"
      },
      "execution_count": null,
      "outputs": []
    },
    {
      "cell_type": "code",
      "source": [
        "#These variables represent dates. Processing is required to convert these\n",
        "#variables to date objects.\n",
        "\n",
        "for col in ['FLSHTMY3', 'HIVTSTD3','COVIDFS1', 'COVIDSE1']:\n",
        "#Converting to a string object\n",
        "  brfssCore[col] = brfssCore[col].astype('string')\n",
        "#Removing decimal places\n",
        "  brfssCore[col] = brfssCore[col].str.replace('.0', '')\n",
        "#If string is null, replacing with '-1'\n",
        "  brfssCore[col] = np.where((brfssCore[col].isnull()), '-1', brfssCore[col])"
      ],
      "metadata": {
        "id": "6FegJOkciBAu"
      },
      "execution_count": null,
      "outputs": []
    },
    {
      "cell_type": "code",
      "source": [
        "#Adding preceding zero if the month is only one digit (Ex. 1 to 01)\n",
        "for col in ['FLSHTMY3', 'HIVTSTD3','COVIDFS1', 'COVIDSE1']:\n",
        "  for i in range(len(brfssCore[col])):\n",
        "    if len(brfssCore.loc[brfssCore.index[i], col]) == 5:\n",
        "      brfssCore.loc[brfssCore.index[i], col] = '0' + brfssCore.loc[brfssCore.index[i], col]"
      ],
      "metadata": {
        "id": "KjVmfJYJiBjl"
      },
      "execution_count": null,
      "outputs": []
    },
    {
      "cell_type": "code",
      "source": [
        "#Some additional values represent a null value; setting to None\n",
        "for col in ['FLSHTMY3', 'HIVTSTD3','COVIDFS1', 'COVIDSE1']:\n",
        "  for i in range(len(brfssCore[col])):\n",
        "    if np.logical_or(brfssCore.loc[brfssCore.index[i], col].endswith('7777'),\n",
        "                     brfssCore.loc[brfssCore.index[i], col].endswith('9999'), ):\n",
        "\n",
        "      brfssCore.loc[brfssCore.index[i], col] = None"
      ],
      "metadata": {
        "id": "jXl3OABOiC5P"
      },
      "execution_count": null,
      "outputs": []
    },
    {
      "cell_type": "code",
      "source": [
        "#Converting all None values to '052024' (which doesn't otherwise appear in dataset)\n",
        "for col in ['FLSHTMY3', 'HIVTSTD3','COVIDFS1', 'COVIDSE1']:\n",
        "  for i in range(len(brfssCore[col])):\n",
        "    if brfssCore.loc[brfssCore.index[i], col] == '-1':\n",
        "      brfssCore.loc[brfssCore.index[i], col] = None\n",
        "    if brfssCore.loc[brfssCore.index[i], col] == None:\n",
        "      brfssCore.loc[brfssCore.index[i], col] = \"052024\""
      ],
      "metadata": {
        "id": "Ush9pHQniEFS"
      },
      "execution_count": null,
      "outputs": []
    },
    {
      "cell_type": "code",
      "source": [
        "#Converting strings to datetime objects using the strptime() function\n",
        "for col in ['FLSHTMY3', 'HIVTSTD3','COVIDFS1', 'COVIDSE1']:\n",
        "  for i in range(len(brfssCore[col])):\n",
        "    #If month is missing, only extract year\n",
        "    if np.logical_or(brfssCore.loc[brfssCore.index[i], col].startswith('77'),\n",
        "                     brfssCore.loc[brfssCore.index[i], col].startswith('99'), ):\n",
        "      brfssCore.loc[brfssCore.index[i], col] =brfssCore.loc[brfssCore.index[i], col][2:]\n",
        "      brfssCore.loc[brfssCore.index[i], col] = datetime.strptime(brfssCore.loc[brfssCore.index[i], col], '%Y')\n",
        "    else:\n",
        "      #Otherwise format is mmYYYY\n",
        "       brfssCore.loc[brfssCore.index[i], col] = datetime.strptime(brfssCore.loc[brfssCore.index[i], col], '%m%Y')"
      ],
      "metadata": {
        "id": "4nDrM7-LiGOD"
      },
      "execution_count": null,
      "outputs": []
    },
    {
      "cell_type": "code",
      "source": [
        "#Converting observations that were originally missing back to None values\n",
        "#(the strptime() function cannot handle null values, so a temporary placeholder\n",
        "#was necessary)\n",
        "for col in ['FLSHTMY3', 'HIVTSTD3','COVIDFS1', 'COVIDSE1']:\n",
        "  for i in range(len(brfssCore[col])):\n",
        "    if brfssCore.loc[brfssCore.index[i], col].year == 2024:\n",
        "      brfssCore.loc[brfssCore.index[i], col] = None\n",
        "\n",
        "  brfssCore[col] = brfssCore[col].astype('datetime64[ns]')"
      ],
      "metadata": {
        "id": "pCsxt72WiHuB"
      },
      "execution_count": null,
      "outputs": []
    },
    {
      "cell_type": "code",
      "source": [
        "#'IDATE' (interview date) also needs to be converted to a date object\n",
        "#but it has a different format than the preceding date variables (mmddYYY vs. mmYYYY)\n",
        "\n",
        "#Converting to a string object\n",
        "brfssCore['IDATE'] = brfssCore['IDATE'].astype('string')\n",
        "#Removing decimal places\n",
        "brfssCore['IDATE'] = brfssCore['IDATE'].str.replace('.0', '')"
      ],
      "metadata": {
        "id": "R9_qkM7niJBI"
      },
      "execution_count": null,
      "outputs": []
    },
    {
      "cell_type": "code",
      "source": [
        "#Adding preceding zero if the day is only one digit (Ex. 1 to 01)\n",
        "for i in range(len(brfssCore['IDATE'])):\n",
        "  if len(brfssCore.loc[brfssCore.index[i], 'IDATE']) == 7:\n",
        "    brfssCore.loc[brfssCore.index[i], 'IDATE'] = '0' + brfssCore.loc[brfssCore.index[i], 'IDATE']"
      ],
      "metadata": {
        "id": "o0wCCQLriKJD"
      },
      "execution_count": null,
      "outputs": []
    },
    {
      "cell_type": "code",
      "source": [
        "#Converting strings to datetime objects\n",
        "for i in range(len(brfssCore['IDATE'])):\n",
        "    brfssCore.loc[brfssCore.index[i], 'INTERVIEWDATE'] = datetime.strptime(brfssCore.loc[brfssCore.index[i], 'IDATE'], '%m%d%Y')\n",
        "\n",
        "brfssCore['INTERVIEWDATE'] = brfssCore['INTERVIEWDATE'].astype('datetime64[ns]')"
      ],
      "metadata": {
        "id": "d3t8A0EDiKt8"
      },
      "execution_count": null,
      "outputs": []
    },
    {
      "cell_type": "code",
      "source": [
        "brfssCore = brfssCore.drop(['IDATE'], axis=1)"
      ],
      "metadata": {
        "id": "K7MXvUeLiLzs"
      },
      "execution_count": null,
      "outputs": []
    },
    {
      "cell_type": "code",
      "source": [
        "#'Pickling' the data frame\n",
        "brfssCore.to_pickle('brfss.pickle')"
      ],
      "metadata": {
        "id": "HkvyhuuaiYfi"
      },
      "execution_count": null,
      "outputs": []
    }
  ]
}
